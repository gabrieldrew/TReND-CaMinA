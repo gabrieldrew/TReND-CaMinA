{
 "cells": [
  {
   "cell_type": "markdown",
   "metadata": {
    "jupyter": {
     "source_hidden": false
    }
   },
   "source": [
    "![Image](./resources/header.png)\n",
    "<h1 align=\"center\">From Neural Variability to Population Coding</h1> \n",
    "<h3 align=\"center\">TReND CaMinA 2024</h3>"
   ]
  },
  {
   "cell_type": "markdown",
   "metadata": {},
   "source": [
    "<div style=\"background: #ADD8E6; border-radius: 3px; padding: 10px;\">\n",
    "\n",
    "In this notebook we're going to explore neural decoding, that is, how can we identify information contained in neural activities. Building on the concept of neural tuning curve, we will learn how to decode information about the stimuli presented. We will then discuss how to understand trial-to-trial neural response varibility and why decoding with population responses might give us more information compared to single neuron.\n",
    "\n",
    "</div>"
   ]
  },
  {
   "cell_type": "markdown",
   "metadata": {},
   "source": [
    "## Import & Brain Observatory Setup "
   ]
  },
  {
   "cell_type": "code",
   "execution_count": null,
   "metadata": {},
   "outputs": [],
   "source": [
    "import os\n",
    "import numpy as np\n",
    "import pandas as pd\n",
    "import matplotlib.pyplot as plt\n",
    "%matplotlib inline"
   ]
  },
  {
   "cell_type": "code",
   "execution_count": null,
   "metadata": {},
   "outputs": [],
   "source": [
    "# Brain Observatory Setup \n",
    "from allensdk.core.brain_observatory_cache import BrainObservatoryCache\n",
    "from allensdk.brain_observatory.drifting_gratings import DriftingGratings\n",
    "\n",
    "manifest_file = '../data/allen-brain-observatory/visual-coding-2p/manifest.json'\n",
    "boc = BrainObservatoryCache(manifest_file=manifest_file)"
   ]
  },
  {
   "cell_type": "markdown",
   "metadata": {},
   "source": [
    "## If using hard drives"
   ]
  },
  {
   "cell_type": "code",
   "execution_count": null,
   "metadata": {},
   "outputs": [],
   "source": [
    "import os\n",
    "import platform\n",
    "\n",
    "# Set file location based on platform. \n",
    "platstring = platform.platform()\n",
    "if ('Darwin' in platstring) or ('macOS' in platstring):\n",
    "    # macOS \n",
    "    data_root = \"/Volumes/TReND2024/\"\n",
    "elif 'Windows'  in platstring:\n",
    "    # Windows (replace with the drive letter of USB drive)\n",
    "    data_root = \"E:/\"\n",
    "elif ('amzn' in platstring):\n",
    "    # then on Code Ocean\n",
    "    data_root = \"/data/\"\n",
    "else:\n",
    "    # then your own linux platform\n",
    "    # EDIT location where you mounted hard drive\n",
    "    data_root = \"/media/$USERNAME/TReND2024/\""
   ]
  },
  {
   "cell_type": "code",
   "execution_count": null,
   "metadata": {},
   "outputs": [],
   "source": [
    "from allensdk.core.brain_observatory_cache import BrainObservatoryCache\n",
    "\n",
    "manifest_file = os.path.join(data_root,'allen-brain-observatory/visual-coding-2p/manifest.json')\n",
    "boc = BrainObservatoryCache(manifest_file=manifest_file)"
   ]
  },
  {
   "cell_type": "markdown",
   "metadata": {},
   "source": [
    "<div style=\"background: #DFF0D8; border-radius: 3px; padding: 10px;\">\n",
    "\n",
    "<h1> Part 1: Decoding stimulus direction from single neuron response</h1>\n",
    "\n",
    "</div>"
   ]
  },
  {
   "cell_type": "markdown",
   "metadata": {},
   "source": [
    "Yesterday we introduced the concept of a tuning curve, which is the mean response of a single neuron as a function of stimulus features (e.g. direction of drifting grating). We also learned how to compute and plot the tuning curve of a single neuron. \n",
    "\n",
    "Today we're interested in how can we decode stimulus features (e.g. direction of drifting grating) from single neuron responses on a trial-to-trial basis. In other words, can we tell what grating direction was presented in each trial by looking at the neural response in that trial?\n",
    "\n",
    "Let's start from a quick review and see how tuning curve can help us decode stimulus direction."
   ]
  },
  {
   "cell_type": "code",
   "execution_count": null,
   "metadata": {},
   "outputs": [],
   "source": [
    "cell_id = 541513979\n",
    "\n",
    "# get the experiment session where this cell has the drifting grating stimulus\n",
    "exps = boc.get_ophys_experiments(cell_specimen_ids=[cell_id], stimuli=['drifting_gratings'])\n",
    "session_id = exps[0]['id']\n",
    "data_set = boc.get_ophys_experiment_data(session_id)\n",
    "\n",
    "    # get trial-to-trial dff traces\n",
    "    timestamps, dff = data_set.get_dff_traces()\n",
    "    cell_index = data_set.get_cell_specimen_indices([cell_id])[0]\n",
    "    dff_trace = dff[cell_index,:]"
   ]
  },
  {
   "cell_type": "code",
   "execution_count": null,
   "metadata": {},
   "outputs": [],
   "source": [
    "# get the stimulus table for the drifting grating stimulus\n",
    "stim_table = data_set.get_stimulus_table('drifting_gratings')\n",
    "stim_table.head()"
   ]
  },
  {
   "cell_type": "markdown",
   "metadata": {},
   "source": [
    "We also learned how to use `pandas` `DataFrame` to store intermediate data for further computation"
   ]
  },
  {
   "cell_type": "code",
   "execution_count": null,
   "metadata": {},
   "outputs": [],
   "source": [
    "# create a pandas DataFrame to store the mean response of the neuron in each trial\n",
    "response = pd.DataFrame(\n",
    "    columns=('orientation', 'temporal_frequency', 'trial_response'), \n",
    "    index=stim_table.index.values\n",
    ") \n",
    "# store orientation\n",
    "response['orientation'] = stim_table.orientation\n",
    "# store temporal_frequency\n",
    "response['temporal_frequency'] = stim_table.temporal_frequency\n",
    "# store mean trial response\n",
    "for ind,row_stim in stim_table.iterrows():\n",
    "    # mean DF/F during the grating presentation\n",
    "    response.loc[ind, 'trial_response'] = dff_trace[int(row_stim.start):int(row_stim.end)].mean()\n",
    "\n",
    "response.head()"
   ]
  },
  {
   "cell_type": "code",
   "execution_count": null,
   "metadata": {},
   "outputs": [],
   "source": [
    "# plot grating response as a function of the grating direction\n",
    "plt.plot(response.orientation.values, response.trial_response.values, 'o')\n",
    "plt.xlabel(\"Direction\", fontsize=16)\n",
    "plt.xticks(range(0,360,45))\n",
    "plt.xlim(-10,325)\n",
    "plt.ylabel(\"Mean DF/F\", fontsize=16)"
   ]
  },
  {
   "cell_type": "markdown",
   "metadata": {},
   "source": [
    "Now we compute the tuning curve for this neuron as a function of grating direction"
   ]
  },
  {
   "cell_type": "code",
   "execution_count": null,
   "metadata": {},
   "outputs": [],
   "source": [
    "# tuning curve\n",
    "# get all unique directions\n",
    "all_ori = np.sort(stim_table.orientation.unique())\n",
    "orivals = all_ori[np.isfinite(all_ori)]  # drop the nan trials\n",
    "print(orivals)\n",
    "\n",
    "# compute the mean and standard deviation of the responses for each unique direction\n",
    "tuning = np.empty((len(orivals)))\n",
    "tuning_std = np.empty((len(orivals)))\n",
    "for i, ori in enumerate(orivals):\n",
    "    trials = response[response.orientation==ori]\n",
    "    tuning[i] = trials.trial_response.mean()\n",
    "    tuning_std[i] = trials.trial_response.std()\n",
    "\n",
    "# plot the mean and std of the response for each direction\n",
    "plt.errorbar(orivals, tuning, yerr=tuning_std,fmt='o-')\n",
    "plt.xlabel(\"Direction (deg)\")\n",
    "plt.xticks(range(0,360,45))\n",
    "plt.ylabel(\"Mean response (DFF)\")"
   ]
  },
  {
   "cell_type": "markdown",
   "metadata": {},
   "source": [
    "<div style=\"background: #DFF0D8; border-radius: 3px; padding: 10px;\">\n",
    "Take a look at the tuning curve of this neuron. How may we decode stimulus direction on a trial-to-trial basis by looking at the responses of this neuron?\n",
    "</div>"
   ]
  },
  {
   "cell_type": "markdown",
   "metadata": {},
   "source": [
    "The tuning curve tells us about what stimlus features drive the neuron. For example, this neuron responds most strongly to the 90-degree grating, somewhat strongly to the 270-degree grating, and only very weakly to the other directions. We can use this response profile to derive heuristic rules to decode grating directions on a trial-to-trial basis."
   ]
  },
  {
   "cell_type": "markdown",
   "metadata": {},
   "source": [
    "<div style=\"background: #FFF0F0; border-radius: 3px; padding: 10px;\">\n",
    "<p>**Discuss** Please discuss how you might want to use tuning curve to decode stimulus direction.\n",
    "</div>"
   ]
  },
  {
   "cell_type": "code",
   "execution_count": null,
   "metadata": {},
   "outputs": [],
   "source": [
    "# decode using tuning curve: heuristics\n",
    "# if mean DFF>1.0, classify as 90-degree\n",
    "# if mean 0.1<DFF<1.0, classify as 270-degree\n",
    "# if mean DFF<0.1, randomly classify as one of the rest\n",
    "\n",
    "\n",
    "plt.errorbar(orivals, tuning, yerr=tuning_std, fmt='o-', zorder=0)\n",
    "plt.xlabel(\"Direction (deg)\")\n",
    "plt.ylabel(\"Mean response (DFF)\")\n",
    "\n",
    "# if mean DFF>1.0, classify as 90-degree\n",
    "plt.scatter(orivals[2], tuning[2], color='r')\n",
    "plt.axhline(1.0, ls='--', color='r', \n",
    "           label='90: DFF>1.0', zorder=15)\n",
    "\n",
    "# if mean 0.1<DFF<1.0, classify as 270-degree\n",
    "plt.scatter(orivals[6], tuning[6], color='g')\n",
    "plt.axhline(0.1, ls='--', color='g', \n",
    "           label='275: 0.1<DFF<1.0', zorder=10)\n",
    "\n",
    "# if mean DFF<0.1, randomly classify as one of the rest\n",
    "plt.scatter(orivals[[0,1,3,4,5,7]], tuning[[0,1,3,4,5,7]], color='k',\n",
    "            label='DFF<0.1', zorder=5)\n",
    "plt.xticks(range(0,360,45))\n",
    "\n",
    "plt.legend()"
   ]
  },
  {
   "cell_type": "markdown",
   "metadata": {},
   "source": [
    "Now let's apply this heuristic decoding to each trial and see how accurate this approach is. First, let's visualize the decoding result."
   ]
  },
  {
   "cell_type": "code",
   "execution_count": null,
   "metadata": {},
   "outputs": [],
   "source": [
    "# Plot the trial response for the first 15 trials, apply our heuristic decoding\n",
    "num_trials = 15\n",
    "selected_trial_response = response.trial_response[:num_trials]\n",
    "\n",
    "# if mean DFF>1.0, classify as 90-degree\n",
    "plt.axhline(1.0, ls='--', color='r', \n",
    "           label='90: DFF>1.0', zorder=15)\n",
    "plt.plot(selected_trial_response[selected_trial_response>1.0], \n",
    "         'o', color='r')\n",
    "\n",
    "# if mean 0.1<DFF<1.0, classify as 270-degree\n",
    "plt.axhline(0.1, ls='--', color='g', \n",
    "           label='275: 0.1<DFF<1.0', zorder=10)\n",
    "plt.plot(selected_trial_response[(selected_trial_response<1.0) & (selected_trial_response>0.1)], \n",
    "         'o', color='g')\n",
    "\n",
    "# if mean DFF<0.1, randomly classify as one of the rest\n",
    "plt.axhline(0.1, ls='--', color='k', \n",
    "           label='DFF<0.1', zorder=5)\n",
    "plt.plot(selected_trial_response[selected_trial_response<0.1], \n",
    "         'o', color='k')\n",
    "\n",
    "plt.xlabel(\"Trial number\")\n",
    "plt.ylabel(\"Mean DFF (%)\")\n",
    "plt.legend()"
   ]
  },
  {
   "cell_type": "markdown",
   "metadata": {},
   "source": [
    "But how accurate this heuristic decoding using tuning curve is? Let's apply them to each trial and analyze its accuracy."
   ]
  },
  {
   "cell_type": "code",
   "execution_count": null,
   "metadata": {},
   "outputs": [],
   "source": [
    "# implement heuristic decoding using tuning profile of the neuron\n",
    "import random\n",
    "\n",
    "ori_heuristic_cell1 = []\n",
    "for trial_response in response.trial_response:\n",
    "    if trial_response >= 1.0:\n",
    "        # if mean DFF>1.0, classify as 90-degree\n",
    "        ori_heuristic_cell1.append(90)\n",
    "    elif (trial_response < 1.0 and trial_response>=0.1):\n",
    "        # if mean 0.1<DFF<1.0, classify as 270-degree\n",
    "        ori_heuristic_cell1.append(270)\n",
    "    else:\n",
    "        # if mean DFF<0.1, randomly classify as one of the rest\n",
    "        ori_heuristic_cell1.append(random.choice([0, 45, 135, 225, 315]))\n",
    "\n",
    "ori_heuristic_cell1 = np.array(ori_heuristic_cell1)"
   ]
  },
  {
   "cell_type": "code",
   "execution_count": null,
   "metadata": {},
   "outputs": [],
   "source": [
    "# Let's visualize the deviation of our decoding from ground truth, for the first 15 trials\n",
    "num_trials = 15\n",
    "\n",
    "plt.scatter(np.arange(num_trials), stim_table.orientation.fillna(-45)[:num_trials], \n",
    "            color='r', label='ground truth', alpha=0.5)\n",
    "plt.scatter(np.arange(num_trials), ori_heuristic_cell1[:num_trials], \n",
    "            color='b', label='decoding', s=20, alpha=0.5)\n",
    "\n",
    "plt.xlabel('Trial number')\n",
    "plt.xticks(range(0, num_trials, 1))\n",
    "plt.ylabel('Direction (deg)')\n",
    "plt.yticks(range(-45,360,45))\n",
    "\n",
    "plt.grid()\n",
    "plt.legend()"
   ]
  },
  {
   "cell_type": "markdown",
   "metadata": {},
   "source": [
    "<div style=\"background: #FFF0F0; border-radius: 3px; padding: 10px;\">\n",
    "<p>**Discuss** What are some issues with this heuristic approach of using tuning curve for decoding stimulus direction?\n",
    "</div>"
   ]
  },
  {
   "cell_type": "markdown",
   "metadata": {},
   "source": [
    "We can see from above that on some trials our heuristic decoding accurately decode the stimulus direction, but on other trials if fails. We can formally quantify the decoding accuracy using a metric called confusion matrix.\n",
    "\n",
    "A confusion matrix calculates how frequent the decoded directions predicts the correct directions, and how often the decoding confuses one direction with another. It provides a complete summary and assessment of decoding performance.\n",
    "\n",
    "To compute a confusion matrix, on the y-axis we have the true direction and on the x-axis we have the predicted direction using our heuristic decoding. Each cell in this matrix will document the number of times the corresponding true direction (e.g. 0 deg) is predicted as the corresponding predicted direction (e.g. 45 deg). Let's implement how this is done."
   ]
  },
  {
   "cell_type": "code",
   "execution_count": null,
   "metadata": {},
   "outputs": [],
   "source": [
    "# First we need to filter out and drop the nan trials\n",
    "# we will use the pandas .notnull() method to create a mask to select trials with valid stimulus direction\n",
    "print(stim_table.orientation.notnull())\n",
    "not_nan_trials_mask = stim_table.orientation.notnull()\n",
    "\n",
    "# filter the true directions and the predicted directions using the above mask\n",
    "true_orientations = stim_table.orientation[not_nan_trials_mask]\n",
    "predicted_orientations = ori_heuristic_cell1[not_nan_trials_mask]"
   ]
  },
  {
   "cell_type": "code",
   "execution_count": null,
   "metadata": {},
   "outputs": [],
   "source": [
    "# convince yourself the above mask is doing what we want for dropping nan trials\n",
    "# by printing the length of the raw arrays and the filtered array\n",
    "print(len(stim_table.orientation))\n",
    "print(len(true_orientations))\n",
    "print(len(ori_heuristic_cell1))\n",
    "print(len(predicted_orientations))"
   ]
  },
  {
   "cell_type": "code",
   "execution_count": null,
   "metadata": {},
   "outputs": [],
   "source": [
    "# construct confusion matrix\n",
    "# start with an empty confusion matrix for filling out trial by trial\n",
    "confusion_matrix = np.zeros((len(orivals),len(orivals))).astype(int)\n",
    "\n",
    "# loop over each trial, and accumulate prediction result\n",
    "for i, true_orientation in enumerate(true_orientations):\n",
    "    true_class = int(true_orientation/ 45)\n",
    "    \n",
    "    predicted_orientation = predicted_orientations[i]\n",
    "    predicted_class = int(predicted_orientation/ 45)\n",
    "\n",
    "    # now we identiy the true class and predicted class for each trial\n",
    "    # update the counts at the corresponding cell in the confusion matrix\n",
    "    confusion_matrix [true_class, predicted_class] += 1\n",
    "\n",
    "\n",
    "confusion_matrix"
   ]
  },
  {
   "cell_type": "markdown",
   "metadata": {},
   "source": [
    "Let's visualize the above confusion matrix with the function `imshow`"
   ]
  },
  {
   "cell_type": "code",
   "execution_count": null,
   "metadata": {},
   "outputs": [],
   "source": [
    "plt.imshow(confusion_matrix, interpolation='none')\n",
    "plt.xlabel('Predicted direction')\n",
    "plt.xticks(np.arange(8), np.arange(0,360,45))\n",
    "plt.ylabel('True direction')\n",
    "plt.yticks(np.arange(8), np.arange(0,360,45))\n",
    "plt.colorbar()"
   ]
  },
  {
   "cell_type": "markdown",
   "metadata": {},
   "source": [
    "Using confusion matrix, we can compute the accuracy (# correct decoding/ # total trials) of decoding very easily."
   ]
  },
  {
   "cell_type": "code",
   "execution_count": null,
   "metadata": {},
   "outputs": [],
   "source": [
    "# compute the accuracy\n",
    "acc = (np.eye(len(orivals))*confusion_matrix).sum()/confusion_matrix.sum()\n",
    "acc"
   ]
  },
  {
   "cell_type": "markdown",
   "metadata": {},
   "source": [
    "In fact, there is a very convenient function from scikit-learn that we can directly use!"
   ]
  },
  {
   "cell_type": "code",
   "execution_count": null,
   "metadata": {},
   "outputs": [],
   "source": [
    "# compute confusion matrix using scikit-learn\n",
    "from sklearn.metrics import confusion_matrix, ConfusionMatrixDisplay\n",
    "\n",
    "cm = confusion_matrix(\n",
    "    true_orientations, \n",
    "    predicted_orientations)\n",
    "disp = ConfusionMatrixDisplay(confusion_matrix=cm, \n",
    "                              display_labels=np.arange(0, 360, 45))\n",
    "disp.plot()"
   ]
  },
  {
   "cell_type": "markdown",
   "metadata": {},
   "source": [
    "We can normalize the confusion matrix by the total number of trials in each row (true direction) to derive the ratio of trials where the prediction is correct or incorrect"
   ]
  },
  {
   "cell_type": "code",
   "execution_count": null,
   "metadata": {},
   "outputs": [],
   "source": [
    "# normalized confusion matrix\n",
    "normalized_cm = cm/cm.sum(axis=1)\n",
    "disp = ConfusionMatrixDisplay(confusion_matrix=normalized_cm, \n",
    "                              display_labels=np.arange(0, 360, 45))\n",
    "disp.plot()"
   ]
  },
  {
   "cell_type": "markdown",
   "metadata": {},
   "source": [
    "<div style=\"background: #FFF0F0; border-radius: 3px; padding: 10px;\">\n",
    "<p>**Discuss** What does the above confusion matrix tell us how good we are at decoding stimulus orienation? Are there particular orientations that we can decode better? Why? And why can't we decode other orientations equally well? Even for the orientations that we have decent decodability, why doesn't it approach 100%?\n",
    "</div>\n",
    "\n",
    "\n"
   ]
  },
  {
   "cell_type": "markdown",
   "metadata": {},
   "source": [
    "<div style=\"border-left: 3px solid #000; padding: 1px; padding-left: 10px; background: #F0FAFF; \">\n",
    "Why are our guesses so deviated from the ground truth? What does it tell us about single neural responses and coding?\n",
    "\n",
    "1. variability in neural response\n",
    "2. ambiguity due to selectivity of neural response\n",
    "</div>\n"
   ]
  },
  {
   "cell_type": "markdown",
   "metadata": {},
   "source": [
    "<div style=\"background: #DFF0D8; border-radius: 3px; padding: 10px;\">\n",
    "\n",
    "<h1> Part 2: Other stimulus features can contribute to neural variabilities </h1>\n",
    "\n",
    "</div>"
   ]
  },
  {
   "cell_type": "markdown",
   "metadata": {},
   "source": [
    "There is significant variability in single neuron responses, and we learn from yesterday that other stimlus featues (e.g. temporal frequencex) may also cause the neuron to respond differently. Let's first examine how different temporal frequencies will cause change in the neuron's tuning profile to grating direction."
   ]
  },
  {
   "cell_type": "code",
   "execution_count": null,
   "metadata": {},
   "outputs": [],
   "source": [
    "# get all temporal frequencies\n",
    "tfvals = np.sort(stim_table.temporal_frequency.unique())\n",
    "tfvals = tfvals[np.isfinite(tfvals)]\n",
    "\n",
    "tuning_array = np.empty((len(orivals),len(tfvals)))\n",
    "for i,tf in enumerate(tfvals):\n",
    "    for j,ori in enumerate(orivals):\n",
    "        trials = response[(response.orientation==ori)&(response.temporal_frequency==tf)]\n",
    "        tuning_array[j,i] = trials.trial_response.values.mean()"
   ]
  },
  {
   "cell_type": "code",
   "execution_count": null,
   "metadata": {},
   "outputs": [],
   "source": [
    "# Let's plot how direction tuning is modulated by different temporal frequencies\n",
    "for i in range(5):\n",
    "    plt.plot(orivals, tuning_array[:,i], 'o-', label=tfvals[i])\n",
    "plt.xlabel(\"Direction (deg)\")\n",
    "plt.ylabel(\"Mean response (DFF)\")\n",
    "plt.legend()"
   ]
  },
  {
   "cell_type": "markdown",
   "metadata": {},
   "source": [
    "We can see that stimulus temporal frequency will cause change in the neuron's direction tuning curve. Therefore, using the same heuristic threshold for decoing direction across different temporal frequencies will give us sub-optimal accuracy as the direction tuning curve is actually dependent on the specific temporal frequency. In other words, we identify a stimulus feature -- temporal frequency -- that contributes to neural response variability.\n",
    "\n",
    "One way for our heuristic decoding method to reflect this depedency on temporal frequency is to conidtion on a particular temporal frequency only -- look at one temporal frequency at a time."
   ]
  },
  {
   "cell_type": "code",
   "execution_count": null,
   "metadata": {},
   "outputs": [],
   "source": [
    "# conditioning on temporal_frequency=2.0\n",
    "response_tf2 = response[response.temporal_frequency==2.0]\n",
    "\n",
    "# compute\n",
    "tuning_tf2 = np.empty((8))\n",
    "tuning_std_tf2 = np.empty((8))\n",
    "for i, ori in enumerate(orivals):\n",
    "    trials_tf2 = response_tf2[response_tf2.orientation==ori]\n",
    "    tuning_tf2[i] = trials_tf2.trial_response.mean()\n",
    "    tuning_std_tf2[i] = trials_tf2.trial_response.std()\n",
    "    \n",
    "\n",
    "# plot\n",
    "# plt.plot(orivals, tuning, 'o-')\n",
    "plt.errorbar(orivals, tuning_tf2, yerr=tuning_std_tf2, fmt='o-')\n",
    "plt.xlabel(\"Direction (deg)\")\n",
    "plt.ylabel(\"Mean response (DFF)\")"
   ]
  },
  {
   "cell_type": "markdown",
   "metadata": {},
   "source": [
    "Now we have the direction tuning curve specific for this temporal frequency, let's repeat the previous heuristic decoding approach and see how accurate we can get."
   ]
  },
  {
   "cell_type": "code",
   "execution_count": null,
   "metadata": {},
   "outputs": [],
   "source": [
    "# decode using tuning curve\n",
    "# if mean DFF>1.3, classify as 90-degree\n",
    "# if mean 0.2<DFF<1.3, classify as 270-degree\n",
    "# if mean DFF<0.2, randomly classify as one of the rest\n",
    "\n",
    "\n",
    "plt.errorbar(orivals, tuning_tf2, yerr=tuning_std_tf2, fmt='o-', zorder=0)\n",
    "plt.xlabel(\"Direction (deg)\")\n",
    "plt.ylabel(\"Mean response (DFF)\")\n",
    "\n",
    "# if mean DFF>1.3, classify as 90-degree\n",
    "plt.scatter(orivals[2], tuning_tf2[2], color='r')\n",
    "plt.axhline(1.3, ls='--', color='r', \n",
    "           label='90: DFF>1.3', zorder=15)\n",
    "\n",
    "# if mean 0.2<DFF<1.3, classify as 270-degree\n",
    "plt.scatter(orivals[6], tuning_tf2[6], color='g')\n",
    "plt.axhline(0.2, ls='--', color='g', \n",
    "           label='275: 0.2<DFF<1.3', zorder=10)\n",
    "\n",
    "# if mean DFF<0.2, randomly classify as one of the rest\n",
    "plt.scatter(orivals[[0,1,3,4,5,7]], tuning_tf2[[0,1,3,4,5,7]], color='k',\n",
    "            label='DFF<0.2', zorder=5)\n",
    "\n",
    "plt.xticks(range(0,360,45))\n",
    "plt.legend()"
   ]
  },
  {
   "cell_type": "code",
   "execution_count": null,
   "metadata": {},
   "outputs": [],
   "source": [
    "# apply heuristic decoding using cell1 tuning profile\n",
    "import random\n",
    "\n",
    "ori_heuristic_cell1_tf2 = []\n",
    "for trial_response in response_tf2.trial_response:\n",
    "    if trial_response >= 1.3:\n",
    "        ori_heuristic_cell1_tf2.append(90)\n",
    "    elif (trial_response < 1.3 and trial_response>=0.2):\n",
    "        ori_heuristic_cell1_tf2.append(270)\n",
    "    else:\n",
    "        ori_heuristic_cell1_tf2.append(random.choice([0, 45, 135, 180, 225, 315]))\n",
    "\n",
    "ori_heuristic_cell1_tf2 = np.array(ori_heuristic_cell1_tf2)"
   ]
  },
  {
   "cell_type": "markdown",
   "metadata": {},
   "source": [
    "Now let's use confusion matrix to visualize the decoding result."
   ]
  },
  {
   "cell_type": "code",
   "execution_count": null,
   "metadata": {},
   "outputs": [],
   "source": [
    "# let's first drop the nan trials\n",
    "not_nan_trials_mask = stim_table[stim_table.temporal_frequency==2.0].orientation.notnull()\n",
    "true_orientations = stim_table[stim_table.temporal_frequency==2.0].orientation.values[not_nan_trials_mask]\n",
    "predicted_orientations_tf2 = ori_heuristic_cell1_tf2[not_nan_trials_mask]\n",
    "\n",
    "# confusion matrix\n",
    "from sklearn.metrics import confusion_matrix, ConfusionMatrixDisplay\n",
    "cm = confusion_matrix(true_orientations, predicted_orientations_tf2)\n",
    "disp = ConfusionMatrixDisplay(confusion_matrix=cm, \n",
    "                              display_labels=np.arange(0, 360, 45))\n",
    "disp.plot()"
   ]
  },
  {
   "cell_type": "code",
   "execution_count": null,
   "metadata": {},
   "outputs": [],
   "source": [
    "# normalized confusion matrix\n",
    "normalized_cm = cm/ np.sum(cm, axis=0)\n",
    "disp = ConfusionMatrixDisplay(confusion_matrix=normalized_cm, \n",
    "                              display_labels=np.arange(0, 360, 45))\n",
    "disp.plot()"
   ]
  },
  {
   "cell_type": "code",
   "execution_count": null,
   "metadata": {},
   "outputs": [],
   "source": [
    "# compute decoding accuracy\n",
    "acc_tf2 = cm.trace()/ np.sum(cm)\n",
    "acc_tf2"
   ]
  },
  {
   "cell_type": "markdown",
   "metadata": {},
   "source": [
    "<div style=\"background: #FFF0F0; border-radius: 3px; padding: 10px;\">\n",
    "<p>**Discuss** Compare this confusion matrix with the previous one without specifying temporal frequency. What's the difference? Which one gives better decodability of direction? What does this tell us?\n",
    "</div>"
   ]
  },
  {
   "cell_type": "markdown",
   "metadata": {},
   "source": [
    "<div style=\"background: #FFF0F0; border-radius: 3px; padding: 10px;\">\n",
    "<p>**Discuss** Based on what we observe about neural response tuning profile and trial-by-trial single neural varaiblity, how can we do better at decoding the stimulus direction from neural responses? \n",
    "</div>\n",
    "\n"
   ]
  },
  {
   "cell_type": "markdown",
   "metadata": {},
   "source": [
    "<div style=\"background: #DFF0D8; border-radius: 3px; padding: 10px;\">\n",
    "\n",
    "<h1> Part 3: Population coding: dcoding using more than one neuron </h1>\n",
    "\n",
    "</div>"
   ]
  },
  {
   "cell_type": "markdown",
   "metadata": {},
   "source": [
    "Let's see what happens to decoding when we have access to, in fact, more than one neuron."
   ]
  },
  {
   "cell_type": "code",
   "execution_count": null,
   "metadata": {},
   "outputs": [],
   "source": [
    "cell2_id = 541513083\n",
    "cell2_index = data_set.get_cell_specimen_indices([cell2_id])[0]\n",
    "\n",
    "dff_trace2 = dff[cell2_index,:]\n",
    "\n",
    "\n",
    "# create a pandas DataFrame to store the response of the neuron in each trial\n",
    "response2 = pd.DataFrame(\n",
    "    columns=('orientation', 'temporal_frequency', 'trial_response'), \n",
    "    index=stim_table.index.values\n",
    ") \n",
    "response2['orientation'] = stim_table.orientation\n",
    "response2['temporal_frequency'] = stim_table.temporal_frequency\n",
    "for ind,row_stim in stim_table.iterrows():\n",
    "    # mean DF/F during the grating presentation\n",
    "    response2.loc[ind, 'trial_response'] = dff_trace2[int(row_stim.start):int(row_stim.end)].mean()"
   ]
  },
  {
   "cell_type": "code",
   "execution_count": null,
   "metadata": {},
   "outputs": [],
   "source": [
    "# plot grating response as a function of the grating orientation\n",
    "plt.plot(response2.orientation.values, response2.trial_response.values, 'o')\n",
    "plt.xticks(range(0,360,45))\n",
    "plt.xlim(-10,325)\n",
    "plt.xlabel(\"Direction\", fontsize=16)\n",
    "plt.ylabel(\"Mean DF/F\", fontsize=16)"
   ]
  },
  {
   "cell_type": "code",
   "execution_count": null,
   "metadata": {},
   "outputs": [],
   "source": [
    "# compute the tuning curve\n",
    "tuning2 = np.empty((8))\n",
    "tuning_std2 = np.empty((8))\n",
    "for i, ori in enumerate(orivals):\n",
    "    trials2 = response2[response2.orientation==ori]\n",
    "    tuning2[i] = trials2.trial_response.mean()\n",
    "    tuning_std2[i] = trials2.trial_response.std()\n",
    "    \n",
    "\n",
    "# plot\n",
    "plt.errorbar(orivals, tuning2, yerr=tuning_std2, fmt='o-')\n",
    "\n",
    "plt.xlabel(\"Direction (deg)\")\n",
    "plt.xticks(range(0,360,45))\n",
    "plt.ylabel(\"Mean response (DFF)\")"
   ]
  },
  {
   "cell_type": "code",
   "execution_count": null,
   "metadata": {},
   "outputs": [],
   "source": [
    "# similarly, let's see how temporal frequency modulates the direction tuning curve\n",
    "tuning_array2 = np.empty((8,5))\n",
    "for i,tf in enumerate(tfvals):\n",
    "    for j,ori in enumerate(orivals):\n",
    "        trials2 = response2[(response2.orientation==ori)&(response2.temporal_frequency==tf)]\n",
    "        tuning_array2[j,i] = trials2.trial_response.mean()\n",
    "\n",
    "for i in range(5):\n",
    "    plt.plot(orivals, tuning_array2[:,i], 'o-', label=tfvals[i])\n",
    "\n",
    "plt.xlabel(\"Direction (deg)\")\n",
    "plt.xticks(range(0,360,45))\n",
    "plt.ylabel(\"Mean response (DFF)\")\n",
    "plt.legend()"
   ]
  },
  {
   "cell_type": "code",
   "execution_count": null,
   "metadata": {},
   "outputs": [],
   "source": [
    "# conditioning on temporal_frequency=2.0\n",
    "response2_tf2 = response2[response2.temporal_frequency==2.0]\n",
    "\n",
    "# compute\n",
    "tuning2_tf2 = np.empty((8))\n",
    "tuning2_std_tf2 = np.empty((8))\n",
    "for i, ori in enumerate(orivals):\n",
    "    trials2_tf2 = response2_tf2[response2_tf2.orientation==ori]\n",
    "    tuning2_tf2[i] = trials2_tf2.trial_response.mean()\n",
    "    tuning2_std_tf2[i] = trials2_tf2.trial_response.std()\n",
    "    \n",
    "\n",
    "# plot\n",
    "plt.errorbar(orivals, tuning2_tf2, yerr=tuning2_std_tf2, fmt='o-')\n",
    "\n",
    "plt.xlabel(\"Direction (deg)\")\n",
    "plt.xticks(range(0,360,45))\n",
    "plt.ylabel(\"Mean response (DFF)\")"
   ]
  },
  {
   "cell_type": "markdown",
   "metadata": {},
   "source": [
    "Now let's plot the tuning curves of these two neurons side by side"
   ]
  },
  {
   "cell_type": "code",
   "execution_count": null,
   "metadata": {},
   "outputs": [],
   "source": [
    "# tuning curve\n",
    "fig, axs = plt.subplots(1,2, figsize=(10,5))\n",
    "\n",
    "ax = axs[0]\n",
    "ax.set_title('Tuning curve for neuron 1')\n",
    "ax.errorbar(orivals, tuning_tf2, yerr=tuning_std_tf2, fmt='o-')\n",
    "ax.set_xlabel(\"Direction (deg)\")\n",
    "ax.set_xticks(range(0,360,45))\n",
    "ax.set_ylabel(\"Mean response (DFF)\")\n",
    "\n",
    "ax = axs[1]\n",
    "ax.set_title('Tuning curve for neuron 2')\n",
    "ax.errorbar(orivals, tuning2_tf2, yerr=tuning2_std_tf2, fmt='o-')\n",
    "ax.set_xlabel(\"Direction (deg)\")\n",
    "ax.set_xticks(range(0,360,45))\n",
    "ax.set_ylabel(\"Mean response (DFF)\")\n",
    "\n",
    "fig.tight_layout()"
   ]
  },
  {
   "cell_type": "markdown",
   "metadata": {},
   "source": [
    "<div style=\"background: #FFF0F0; border-radius: 3px; padding: 10px;\">\n",
    "<p>**Discuss** Now based on these two tuning curve, how would you construct heuristic decoding criteria? Can you spculate if there's any benefit of using two neurons instead on just one?\n",
    "</div>"
   ]
  },
  {
   "cell_type": "markdown",
   "metadata": {},
   "source": [
    "Now let's set our heuristic decoding"
   ]
  },
  {
   "cell_type": "code",
   "execution_count": null,
   "metadata": {},
   "outputs": [],
   "source": [
    "# decode with 2-cell tuning curves\n",
    "# cell 1\n",
    "# if mean DFF>1.3, classify as 90-degree\n",
    "# if mean 0.2<DFF<1.3, classify as 270-degree\n",
    "# if mean DFF<0.2, randomly classify as one of the rest\n",
    "# cell 2\n",
    "# if mean DFF>0.15, classify as 0-degree\n",
    "# if mean 0.02<DFF<0.15, classify as 180-degree\n",
    "# if mean DFF<0.15, randomly classify as one of the rest\n",
    "\n",
    "\n",
    "fig, axs = plt.subplots(1,2, figsize=(10,5))\n",
    "\n",
    "\n",
    "ax = axs[0]\n",
    "ax.set_title('Tuning curve for neuron 1')\n",
    "ax.errorbar(orivals, tuning_tf2, yerr=tuning_std_tf2, fmt='o-', zorder=0)\n",
    "\n",
    "\n",
    "# if mean DFF>1.3, classify as 90-degree\n",
    "ax.scatter(orivals[2], tuning_tf2[2], color='r')\n",
    "ax.axhline(1.3, ls='--', color='r', \n",
    "           label='90: DFF>1.3', zorder=15)\n",
    "\n",
    "# if mean 0.2<DFF<1.3, classify as 270-degree\n",
    "ax.scatter(orivals[6], tuning_tf2[6], color='g')\n",
    "ax.axhline(0.2, ls='--', color='g', \n",
    "           label='275: 0.2<DFF<1.3', zorder=10)\n",
    "\n",
    "# if mean DFF<0.2, randomly classify as one of the rest\n",
    "ax.scatter(orivals[[0,1,3,4,5,7]], tuning_tf2[[0,1,3,4,5,7]], color='k',\n",
    "            label='DFF<0.2', zorder=5)\n",
    "ax.legend()\n",
    "ax.set_xlabel(\"Direction (deg)\")\n",
    "ax.set_xticks(range(0,360,45))\n",
    "ax.set_ylabel(\"Mean response (DFF)\")\n",
    "\n",
    "\n",
    "ax = axs[1]\n",
    "ax.set_title('Tuning curve for neuron 2')\n",
    "ax.errorbar(orivals, tuning2_tf2, yerr=tuning2_std_tf2, fmt='o-', zorder=0)\n",
    "\n",
    "# if mean DFF>0.15, classify as 0-degree\n",
    "ax.scatter(orivals[0], tuning2_tf2[0], color='m')\n",
    "ax.axhline(0.15, ls='--', color='m', \n",
    "           label='0: DFF>0.15', zorder=15)\n",
    "\n",
    "# if mean 0.02<DFF<0.15, classify as 180-degree\n",
    "ax.scatter(orivals[4], tuning2_tf2[4], color='c')\n",
    "ax.axhline(0.02, ls='--', color='c', \n",
    "           label='180: 0.02<DFF<0.15', zorder=10)\n",
    "# if mean DFF<0.15, randomly classify as one of the rest\n",
    "ax.scatter(orivals[[1,2,3,5,6,7]], tuning2_tf2[[1,2,3,5,6,7]], color='k',\n",
    "            label='DFF<0.15', zorder=5)\n",
    "ax.legend()\n",
    "ax.set_xlabel(\"Direction (deg)\")\n",
    "ax.set_xticks(range(0,360,45))\n",
    "ax.set_ylabel(\"Mean response (DFF)\")\n",
    "\n",
    "fig.tight_layout()"
   ]
  },
  {
   "cell_type": "markdown",
   "metadata": {},
   "source": [
    "With this heuristic decoding, let's first see how it looks on a trial-to-trial basis."
   ]
  },
  {
   "cell_type": "code",
   "execution_count": null,
   "metadata": {},
   "outputs": [],
   "source": [
    "# plot the trial-to-trial response side by side\n",
    "# Plot the trial response for the first 15 trials, apply heuristic decoding\n",
    "num_trials = 15\n",
    "selected_trial_response_tf2 = response_tf2.trial_response[:num_trials]\n",
    "selected_trial_response2_tf2 = response2_tf2.trial_response[:num_trials]\n",
    "\n",
    "\n",
    "fig, axs = plt.subplots(1,2, figsize=(10,5))\n",
    "\n",
    "\n",
    "ax = axs[0]\n",
    "ax.set_title('Tuning curve for neuron 1')\n",
    "\n",
    "# if mean DFF>1.3, classify as 90-degree\n",
    "ax.axhline(1.3, ls='--', color='r', \n",
    "         label='90: DFF>1.3', zorder=15)\n",
    "ax.plot(selected_trial_response_tf2[selected_trial_response_tf2>=1.3], \n",
    "         'o', color='r')\n",
    "\n",
    "# if mean 0.2<DFF<1.3, classify as 270-degree\n",
    "ax.axhline(0.2, ls='--', color='g', \n",
    "          label='275: 0.2<DFF<1.3', zorder=10)\n",
    "ax.plot(selected_trial_response_tf2[(selected_trial_response_tf2<1.3) & (selected_trial_response_tf2>=0.2)], \n",
    "         'o', color='g')\n",
    "\n",
    "# if mean DFF<0.2, randomly classify as one of the rest\n",
    "ax.plot(selected_trial_response_tf2[selected_trial_response_tf2<0.2], \n",
    "         'o', color='k', label='DFF<0.2')\n",
    "\n",
    "ax.set_xlabel(\"Trial number\")\n",
    "ax.set_ylabel(\"Mean DFF (%)\")\n",
    "ax.legend()\n",
    "\n",
    "\n",
    "ax = axs[1]\n",
    "ax.set_title('Tuning curve for neuron 2')\n",
    "\n",
    "# if mean DFF>0.15, classify as 0-degree\n",
    "ax.axhline(0.15, ls='--', color='m', \n",
    "         label='0: DFF>0.15', zorder=15)\n",
    "ax.plot(selected_trial_response2_tf2[selected_trial_response2_tf2>=0.15], \n",
    "         'o', color='m')\n",
    "\n",
    "# if mean 0.02<DFF<0.15, classify as 180-degree\n",
    "ax.axhline(0.02, ls='--', color='c', \n",
    "          label='180: 0.02<DFF<0.15', zorder=10)\n",
    "ax.plot(selected_trial_response2_tf2[(selected_trial_response2_tf2<0.15) & (selected_trial_response2_tf2>=0.02)], \n",
    "         'o', color='c')\n",
    "\n",
    "# if mean DFF<0.02, randomly classify as one of the rest\n",
    "ax.plot(selected_trial_response2_tf2[selected_trial_response2_tf2<0.02], \n",
    "         'o', color='k', label='DFF<0.02')\n",
    "\n",
    "ax.set_xlabel(\"Trial number\")\n",
    "ax.set_ylabel(\"Mean DFF (%)\")\n",
    "ax.legend()\n",
    "\n",
    "fig.tight_layout()"
   ]
  },
  {
   "cell_type": "markdown",
   "metadata": {},
   "source": [
    "Let's implement this heuristic decoding using the tuning curves of the two neurons"
   ]
  },
  {
   "cell_type": "code",
   "execution_count": null,
   "metadata": {},
   "outputs": [],
   "source": [
    "# heuristic decoding using the tuning profiles of two neurons\n",
    "import random\n",
    "\n",
    "ori_heuristic_2cells = []\n",
    "for trial_response, trial_response2 in zip(response_tf2.trial_response, response2_tf2.trial_response):\n",
    "    # cell 1\n",
    "    if trial_response >= 1.3:\n",
    "        # if mean DFF>1.3, classify as 90-degree\n",
    "        ori_heuristic_2cells.append(90)\n",
    "        \n",
    "    elif (trial_response < 1.3 and trial_response>=0.2):\n",
    "        # if mean 0.2<DFF<1.3, classify as 270-degree\n",
    "        ori_heuristic_2cells.append(270)\n",
    "\n",
    "    elif trial_response2 > 0.15:\n",
    "        # if mean DFF>0.15, classify as 0-degree\n",
    "        ori_heuristic_2cells.append(0)\n",
    "        \n",
    "    elif (trial_response2 < 0.15 and trial_response2 > 0.02):\n",
    "        # if mean 0.02<DFF<0.15, classify as 180-degree\n",
    "        ori_heuristic_2cells.append(180)\n",
    "    else:\n",
    "        # otherwise, randomly classify as one of the rest\n",
    "        ori_heuristic_2cells.append(random.choice([45, 135, 225, 315]))\n",
    "    \n",
    "ori_heuristic_2cells = np.array(ori_heuristic_2cells)"
   ]
  },
  {
   "cell_type": "markdown",
   "metadata": {},
   "source": [
    "We can again assess the decoding performance using confusion matrix"
   ]
  },
  {
   "cell_type": "code",
   "execution_count": null,
   "metadata": {},
   "outputs": [],
   "source": [
    "# confusion matrix\n",
    "from sklearn.metrics import confusion_matrix, ConfusionMatrixDisplay\n",
    "\n",
    "# first drop the nan trials\n",
    "not_nan_trials_mask = stim_table[stim_table.temporal_frequency==2.0].orientation.notnull()\n",
    "true_orientations = stim_table[stim_table.temporal_frequency==2.0].orientation.values[not_nan_trials_mask]\n",
    "predicted_orientations_2cells = ori_heuristic_2cells[not_nan_trials_mask]\n",
    "\n",
    "\n",
    "cm = confusion_matrix(true_orientations, predicted_orientations_2cells)\n",
    "disp = ConfusionMatrixDisplay(confusion_matrix=cm, \n",
    "                              display_labels=np.arange(0, 360, 45))\n",
    "disp.plot()"
   ]
  },
  {
   "cell_type": "code",
   "execution_count": null,
   "metadata": {},
   "outputs": [],
   "source": [
    "# normalized confusion matrix\n",
    "normalized_cm = cm/ np.sum(cm, axis=0)\n",
    "disp = ConfusionMatrixDisplay(confusion_matrix=normalized_cm, \n",
    "                              display_labels=np.arange(0, 360, 45))\n",
    "disp.plot()"
   ]
  },
  {
   "cell_type": "markdown",
   "metadata": {},
   "source": [
    "<div style=\"background: #FFF0F0; border-radius: 3px; padding: 10px;\">\n",
    "<p>**Discuss** Compare this confusion matrix with the previous one using only cell1. What's the difference? Which one gives better decodability of direction? What does this tell us?\n",
    "</div>"
   ]
  },
  {
   "cell_type": "code",
   "execution_count": null,
   "metadata": {},
   "outputs": [],
   "source": [
    "# compute decoding accuracy\n",
    "acc_2cells = cm.trace()/ cm.sum()\n",
    "acc_2cells"
   ]
  },
  {
   "cell_type": "markdown",
   "metadata": {},
   "source": [
    "<div style=\"background: #FFF0F0; border-radius: 3px; padding: 10px;\">\n",
    "<p>**Discuss** What enables us to better decode the simulus orientation when we use two neurons?\n",
    "</div>"
   ]
  },
  {
   "cell_type": "markdown",
   "metadata": {},
   "source": [
    "<div style=\"border-left: 3px solid #000; padding: 1px; padding-left: 10px; background: #F0FAFF; \">\n",
    "What enables us to better decode the simulus orientation when we use two neurons?\n",
    "\n",
    "1. different response selectivity\n",
    "2. more samples trial-to-trial neural response variability\n",
    "</div>"
   ]
  },
  {
   "cell_type": "markdown",
   "metadata": {},
   "source": [
    "To better understand why using two neurons can improve direction decoding, let's to visualize the responses of 2 neurons in their response space, i.e. each axis of the plot corresponds to the response of one neuron."
   ]
  },
  {
   "cell_type": "code",
   "execution_count": null,
   "metadata": {},
   "outputs": [],
   "source": [
    "# plot trial-to-trial neuron responses in response space\n",
    "\n",
    "colors = ['tab:green', 'tab:purple', 'tab:orange', 'tab:olive',\n",
    "          'tab:blue', 'tab:red', 'tab:brown', 'tab:gray']\n",
    "\n",
    "stim_table_tf2 = stim_table[stim_table.temporal_frequency==2.0]\n",
    "\n",
    "plt.figure(figsize=(9,7))\n",
    "for i, ori in enumerate(orivals):\n",
    "    ind = stim_table_tf2.orientation[stim_table_tf2.orientation==ori].index\n",
    "    plt.scatter(\n",
    "        response_tf2.trial_response[ind].values, \n",
    "        response2_tf2.trial_response[ind].values,\n",
    "        c=colors[i],\n",
    "        s=24, alpha=0.6,\n",
    "        label=f'{int(ori)}'\n",
    "    )\n",
    "\n",
    "plt.xlabel('neuron 1 response (mean DFF)')\n",
    "plt.ylabel('neuron 2 response (mean DFF)')\n",
    "plt.legend()"
   ]
  },
  {
   "cell_type": "code",
   "execution_count": null,
   "metadata": {},
   "outputs": [],
   "source": [
    "# visualize heuristic decoding boundaries in the response space\n",
    "\n",
    "colors = ['tab:green', 'tab:purple', 'tab:orange', 'tab:olive',\n",
    "          'tab:blue', 'tab:red', 'tab:brown', 'tab:gray']\n",
    "\n",
    "stim_table_tf2 = stim_table[stim_table.temporal_frequency==2.0]\n",
    "\n",
    "plt.figure(figsize=(9,7))\n",
    "for i, ori in enumerate(orivals):\n",
    "    ind = stim_table_tf2.orientation[stim_table_tf2.orientation==ori].index\n",
    "    plt.scatter(\n",
    "        response_tf2.trial_response[ind].values, \n",
    "        response2_tf2.trial_response[ind].values,\n",
    "        c=colors[i],\n",
    "        s=24, alpha=0.6,\n",
    "        label=f'{int(ori)}'\n",
    "    )\n",
    "\n",
    "# decision boundaries\n",
    "plt.axvline(1.3, ls='--', color='r', \n",
    "           label='90: n1_DFF>1.3', zorder=15)\n",
    "plt.axvline(0.2, ls='--', color='g', \n",
    "           label='275: 0.2<n1_DFF<1.3', zorder=10)\n",
    "plt.axhline(0.15, ls='--', color='m', \n",
    "           label='0: n2_DFF>0.15', zorder=15)\n",
    "plt.axhline(0.02, ls='--', color='c', \n",
    "           label='180: 0.02<n2_DFF<0.15', zorder=10)\n",
    "\n",
    "plt.xlabel('neuron 1 response (mean DFF)')\n",
    "plt.ylabel('neuron 2 response (mean DFF)')\n",
    "plt.legend()"
   ]
  },
  {
   "cell_type": "markdown",
   "metadata": {},
   "source": [
    "<div style=\"background: #FFF0F0; border-radius: 3px; padding: 10px;\">\n",
    "<p>**Discuss** What does the above plot tell us how to decode the stimulus orientation from the responses of 2 neurons? In principle, how can we better partition the 2-cell response space for better decoding stimulus direction?\n",
    "</div>"
   ]
  },
  {
   "cell_type": "markdown",
   "metadata": {},
   "source": [
    "<div style=\"background: #FFF0F0; border-radius: 3px; padding: 10px;\">\n",
    "<p>**Discuss** What does this imply if we use even more neurons to decode?\n",
    "</div>"
   ]
  }
 ],
 "metadata": {
  "kernelspec": {
   "display_name": "Python 3",
   "language": "python",
   "name": "python3"
  },
  "language_info": {
   "codemirror_mode": {
    "name": "ipython",
    "version": 3
   },
   "file_extension": ".py",
   "mimetype": "text/x-python",
   "name": "python",
   "nbconvert_exporter": "python",
   "pygments_lexer": "ipython3",
   "version": "3.8.5"
  },
  "vscode": {
   "interpreter": {
    "hash": "d4d1e4263499bec80672ea0156c357c1ee493ec2b1c70f0acce89fc37c4a6abe"
   }
  }
 },
 "nbformat": 4,
 "nbformat_minor": 4
}
