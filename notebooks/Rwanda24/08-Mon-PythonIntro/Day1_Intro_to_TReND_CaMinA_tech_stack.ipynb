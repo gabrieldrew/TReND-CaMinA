{
  "cells": [
    {
      "cell_type": "markdown",
      "metadata": {
        "colab_type": "text",
        "id": "view-in-github"
      },
      "source": [
        "<a href=\"https://colab.research.google.com/github/trendinafrica/TReND-CaMinA/blob/main/notebooks/Rwanda24/08-Mon-PythonIntro/Day1_Intro_to_TReND_CaMinA_tech_stack.ipynb\" target=\"_parent\"><img src=\"https://colab.research.google.com/assets/colab-badge.svg\" alt=\"Open In Colab\"/></a>"
      ]
    },
    {
      "cell_type": "markdown",
      "metadata": {
        "id": "BAnXKG-SSeRA"
      },
      "source": [
        "\n",
        "\n",
        "<img align=\"left\" width=\"300\" src=\"https://raw.githubusercontent.com/trendinafrica/TReND-CaMinA/main/images/CaMinA_logo.png\">\n",
        "\n",
        "# TReND-CaMinA Day 1: Intro to our teaching setup\n",
        "\n",
        "**Content creators:** Burak Gür\n",
        "\n",
        "**Acknowledgements:** Parts taken from previous TReND Python and TReND-CaMinA courses."
      ]
    },
    {
      "cell_type": "markdown",
      "metadata": {
        "id": "LecgwQV2UF2O"
      },
      "source": [
        "# Before we start:\n",
        "\n",
        "\n",
        "\n",
        "1.   **Login** via your google account\n",
        "2.   **Save a copy of this notebook** in your Google Drive so that you can edit (this is our original notebook): `File > Save a copy in Drive`"
      ]
    },
    {
      "cell_type": "markdown",
      "metadata": {
        "id": "lN5shsrqS9Wh"
      },
      "source": [
        "# TReND-CaMinA basic stack\n",
        "\n",
        "<img src= \"https://raw.githubusercontent.com/trendinafrica/TReND-CaMinA/main/images/Day1_course_stack.png\" width =\"600px\">\n",
        "\n",
        "**Sections:**\n",
        "\n",
        "1. [Programming and Python](#Python-what-why)\n",
        "2. [Colab](#Colab) - using Python comfortably\n",
        "3. [Python packages](#pack) - backbone of ML & Comp Neuro\n",
        "4. [Github](#Git) - track, organize & share\n",
        "\n",
        "FOR PYTHON BEGINNERS (**@Home**) --> [Programming with Python](#PythonIntro)\n",
        "\n",
        "\n",
        "\n",
        "---\n",
        "\n"
      ]
    },
    {
      "cell_type": "markdown",
      "metadata": {
        "id": "j9103reyhGX1"
      },
      "source": [
        "<a name=\"Python-what-why\"></a>\n",
        "# Section 1. Python - What is it & why use it?\n",
        "\n",
        "<img src=\"https://upload.wikimedia.org/wikipedia/commons/f/f8/Python_logo_and_wordmark.svg\" width= 300>\n",
        "\n",
        "Let's start with a survey:\n",
        "[Survey link](https://www.menti.com/aldssmemgpg8)\n"
      ]
    },
    {
      "cell_type": "markdown",
      "metadata": {
        "id": "IH5DLx0hNG_9"
      },
      "source": [
        "## Python: brief history\n",
        "[Python](https://www.python.org/) is:\n",
        "- A popular programming language created by Guido van Rossum, and released in 1991.\n",
        "\n",
        "- It is a powerful interpreted high-level general-purpose programming language with simple easy-to-use syntax.\n",
        "\n",
        "- Commonly used in research, web development (server-side), mathematics, system scripting, data science, creating software prototypes, just to name a few.\n",
        "\n",
        "- Supports modules and packages (already implemented functions or functionalities ready-to-use), which encourages program modularity and code reuse.\n",
        "\n",
        "- The Python interpreter and the extensive standard library are available without charge for all major platforms, and can be freely distributed."
      ]
    },
    {
      "cell_type": "markdown",
      "metadata": {
        "id": "IrUVj0_RavY5"
      },
      "source": [
        "<img src= \"https://github.com/birkfl/TReND/blob/main/Python_Workshop2022/img/whypython.svg?raw=true\" width =\"600px\">\n",
        "\n",
        "\n",
        "---\n"
      ]
    },
    {
      "cell_type": "markdown",
      "metadata": {
        "id": "y0X7P87s_-RD"
      },
      "source": [
        "<a name=\"Colab\"></a>\n",
        "# Section 2. Colab - Running Python comfortably\n",
        "\n",
        "<img src=\"https://upload.wikimedia.org/wikipedia/commons/d/d0/Google_Colaboratory_SVG_Logo.svg\" width=200>"
      ]
    },
    {
      "cell_type": "markdown",
      "metadata": {
        "id": "V6-2c5EBl8Gy"
      },
      "source": [
        "### Before Colab: Python notebooks\n",
        "This is a python notebook (officially called a *Jupyter notebook* or an *IPython notebook* --> with the extension \".ipynb\"), which is a basically just a super fancy way of writing python code.\n",
        "  - We can write formatted **text together with executable code**.\n",
        "\n",
        "  - Allows **rapid development** of python code by writing small bits and testing them.\n",
        "\n",
        "  - We can **easily share** our code with others and they can run it without problems.\n",
        "\n",
        "\n",
        "\n",
        "    \n",
        "\n",
        "\n"
      ]
    },
    {
      "cell_type": "markdown",
      "metadata": {
        "id": "YgQZQ39VNkbR"
      },
      "source": [
        "## What is Colab?"
      ]
    },
    {
      "cell_type": "markdown",
      "metadata": {
        "id": "c2l6huOtl2C7"
      },
      "source": [
        "[Colab](https://colab.research.google.com/notebooks/intro.ipynb#recent=true) (short for \"Colaboratory\") allows us to take a Jupyter notebook and lets us **edit/use/share** it **easy and free!**\n",
        "\n",
        "Additionally:\n",
        "\n",
        "  - Runs on the **Google Cloud** - doesn't depend much on your computer capabilities.\n",
        "  \n",
        "  - Has many pre-installed packages. **Zero configuration!**\n",
        "\n",
        "  \n",
        "  - Run code super fast --> **GPU usage** is provided free of charge for some hours of usage every day.\n",
        "\n",
        "  - **Share** notebooks with other people, without the need to download, install or run anything.\n",
        "\n",
        "  - Notebooks are **stored in Google Drive** and can also be uploaded from **GitHub**\n",
        "\n",
        "  -   Attention: Be careful - Colab **does not allow users to do changes simultaneously**. If you work together at the same time on one notebook, some changes might be lost.  \n",
        "\n",
        "\n",
        "\n"
      ]
    },
    {
      "cell_type": "markdown",
      "metadata": {
        "id": "YybfaVyJm_K1"
      },
      "source": [
        "For example, to run a code, just hover the mouse over ```[ ]``` and press the play button to the upper left. Or press **shift-enter to execute**.\n",
        "\n",
        "- Below we have a code, just run it"
      ]
    },
    {
      "cell_type": "code",
      "execution_count": null,
      "metadata": {
        "id": "jO2PZ0FG757d"
      },
      "outputs": [],
      "source": [
        "# Live code - (print Hello World)"
      ]
    },
    {
      "cell_type": "code",
      "execution_count": null,
      "metadata": {
        "colab": {
          "base_uri": "https://localhost:8080/"
        },
        "id": "euJ73YDJnCvW",
        "outputId": "d84562a5-9035-4529-a2a9-b86ba92955b1"
      },
      "outputs": [],
      "source": [
        "print('Hello World')"
      ]
    },
    {
      "cell_type": "markdown",
      "metadata": {
        "id": "4z4UW5He1uaZ"
      },
      "source": [
        "## Advice for using Colab\n",
        "\n",
        "*   **Make a local copy of notebooks to your Google Drive**: otherwise changes you make (e.g. notes you take, code you write, etc) will not be saved\n",
        "\n",
        "*   **Do not edit the same colab directly as a group.** Unlike Google Docs, one person's version will overwrite another's. If your browser happens to be open, it can overwrite anything that has been done by others since the last version in your browser! **IMPORTANT FOR GROUP PROJECTS!**\n",
        "\n",
        "*   **Colab does not have version control!** Use git for this if you want to collaborate (on a group project colab for example). More on this later.\n"
      ]
    },
    {
      "cell_type": "markdown",
      "metadata": {
        "id": "C93oXGVUAMQS"
      },
      "source": [
        "More detailed:\n",
        "\n",
        "*   If you're inactive for a long time (1h), colab can die! **Run> Reset Runtime Environment**\n",
        "  - Your code is executed on a virtual machine specific to your account. Virtual machines are deleted when they are inactive for a certain time and have a maximum lifetime imposed by the Colab service. Select **Run> Reset Runtime Environment** to restore all virtual machines assigned to you to their original state.\n",
        "\n",
        "*  **Include cells at the beginning to install packages:** If you choose to share a notebook, all of its content (text, code, output, and comments) will be shared. However, the virtual machine you are using, including any custom files and libraries you configured, will not be shared. It is, therefore, recommended that you include cells that install and load the libraries or custom files needed by your notebook.\n",
        "\n",
        "*   Various limits are applied in Google Drive, such as the number of operations performed (per user and per file) and bandwidth quotas (the total amount of traffic to and from the server allowed). Exceeding these limits triggers an Input/output error. This scenario usually occurs when trying to access a popular shared file, or too many separate files too suddenly. You can work around the problem by using the following methods:\n",
        "         \n",
        "      - Copy the file through drive.google.com and avoid large-scale sharing, so that other users don't hit the limits that apply to it.\n",
        "      - Avoid performing many small  read or write request to a memory. Favor copying data from Drive to the Colab VM in an archive format (e.g, .zip or .tar.gz) and unarchive the data locally on the VM rather than in the installed Drive directory.\n",
        "      - Wait a day for the quota limits to reset.\n",
        "      \n",
        "[Read more](https://research.google.com/colaboratory/intl/en-GB/faq.html)\n",
        "\n",
        "\n",
        "\n",
        "\n",
        "\n",
        "---\n",
        "\n",
        "\n",
        "\n",
        "\n",
        "\n"
      ]
    },
    {
      "cell_type": "markdown",
      "metadata": {
        "id": "3fe016be"
      },
      "source": [
        "\n",
        "<a name=\"pack\"></a>\n",
        "# Section 3. Packages"
      ]
    },
    {
      "cell_type": "markdown",
      "metadata": {
        "id": "290933d2"
      },
      "source": [
        "As Python users, our needs intersect in many ways.\n",
        "\n",
        "- Does everyone need to write their own scripts for each of these needs?\n",
        "\n",
        "- Do we have the expertise and/or time to do this?\n",
        "\n",
        "- Wouldn't it be great if we can use the functions written by experts on our way to achieve our programming goal?\n",
        "\n",
        "### Python packages provide us a way to use functionality developed by other people"
      ]
    },
    {
      "cell_type": "markdown",
      "metadata": {
        "id": "19b632e8"
      },
      "source": [
        "####  What are packages?\n",
        "\n",
        "- **Collection of pre-written code** mostly consisting of functions\n",
        "\n",
        "- Packages contain many files of code. Each file is called a **module**.\n",
        "\n",
        "- A published package is sometimes referred to as a \"library\" so don't be confused if you see the term \"library\" used. For our purposes we can consider them the same.\n"
      ]
    },
    {
      "cell_type": "markdown",
      "metadata": {
        "id": "3517c183"
      },
      "source": [
        "<img  src=\"https://github.com/bgur123/python-beginners-course/blob/master/trend_course/images/package_scheme.svg?raw=1\" width =\"500px\">"
      ]
    },
    {
      "cell_type": "markdown",
      "metadata": {
        "id": "8336b160"
      },
      "source": [
        "Python comes with a large collection of pre-installed packages: **Python Standard Library**. (No further installation required)\n",
        "\n",
        "#### The Python Standard Library\n",
        "\n",
        "Contains numerous functionality:\n",
        "- Mathematical functions\n",
        "- Internet data handling\n",
        "- Parallel processing\n",
        "- Accessing file and directories\n",
        "- ...\n",
        "\n",
        "You can get more information here: [Python Standard Library](https://docs.python.org/3/library/index.html)\n",
        "\n"
      ]
    },
    {
      "cell_type": "markdown",
      "metadata": {
        "id": "d82149c8"
      },
      "source": [
        "\n",
        "\n",
        "<a name=\"upack\"></a>\n",
        "\n",
        "## Useful packages for data analysis, comp Neuro & ML"
      ]
    },
    {
      "cell_type": "markdown",
      "metadata": {
        "id": "a8ea924e"
      },
      "source": [
        "\n",
        "<img src=\"https://upload.wikimedia.org/wikipedia/commons/1/1a/NumPy_logo.svg\" width =\"300px\">\n",
        "\n",
        "\n",
        "**[NumPy](https://numpy.org/) (Numerical Python)** is the fundamental package for numerical computation in Python. It’s a general-purpose array-processing package that provides high-performance multidimensional objects called arrays and tools for working with them."
      ]
    },
    {
      "cell_type": "markdown",
      "metadata": {
        "id": "56123d52"
      },
      "source": [
        "<img src=\"https://media.dev.to/cdn-cgi/image/width=1000,height=420,fit=cover,gravity=auto,format=auto/https%3A%2F%2Fdev-to-uploads.s3.amazonaws.com%2Fuploads%2Farticles%2Fxm36iqima49zxbqsr8ma.jpg\" width =\"300px\">\n",
        "\n",
        "**[SciPy](https://scipy.org/) (Scientific Python)** is a scientific computation library that uses NumPy underneath. It provides more utility functions for optimization, stats and signal processing."
      ]
    },
    {
      "cell_type": "markdown",
      "metadata": {
        "id": "cdb161da"
      },
      "source": [
        "<img src=\"https://upload.wikimedia.org/wikipedia/commons/e/ed/Pandas_logo.svg\" width =\"300px\">\n",
        "\n",
        "**[Pandas](https://pandas.pydata.org/) (Python data analysis)** is the most popular and widely used Python library for data science, along with NumPy and Matplotlib. It is heavily used for data analysis, transformation, storage and cleaning."
      ]
    },
    {
      "cell_type": "markdown",
      "metadata": {
        "id": "d676970b"
      },
      "source": [
        "<img src=\"https://matplotlib.org/3.3.1/_static/logo2_compressed.svg\" width =\"300px\">\n",
        "\n",
        "https://matplotlib.org/3.3.1/_static/logo2_compressed.svg\n",
        "\n",
        "[**Matplotlib**](https://matplotlib.org/) is a plotting library for Python. Because of the graphs and plots that it produces, it’s extensively used for data visualization."
      ]
    },
    {
      "cell_type": "markdown",
      "metadata": {
        "id": "7fcf515e"
      },
      "source": [
        "<img src=\"https://seaborn.pydata.org/_images/logo-wide-lightbg.svg\" width =\"300px\">\n",
        "\n",
        "[**Seaborn**](https://seaborn.pydata.org/) is a data visualization library based on matplotlib. It provides a high-level interface for drawing attractive and informative statistical graphics."
      ]
    },
    {
      "cell_type": "markdown",
      "metadata": {
        "id": "c6a95927"
      },
      "source": [
        "\n",
        "\n",
        "<a name=\"inst\"></a>\n",
        "\n",
        "## Installing packages"
      ]
    },
    {
      "cell_type": "markdown",
      "metadata": {
        "id": "bbe10551"
      },
      "source": [
        "In other python IDEs (not in colab), all packages that are not built-in need to be installed.\n",
        "\n",
        "There are several ways to install packages in Python, depending on the environment used, if it is for single or global use etc.\n",
        "\n",
        "**!!!Be careful when installing packages. It can lead to many problems if not done properly.**\n",
        "\n",
        "To install a package you can use `pip install` followed by the package_name."
      ]
    },
    {
      "cell_type": "code",
      "execution_count": null,
      "metadata": {
        "code_folding": [],
        "id": "efc55a7e"
      },
      "outputs": [],
      "source": [
        "pip install numpy"
      ]
    },
    {
      "cell_type": "markdown",
      "metadata": {
        "id": "7cdcd366"
      },
      "source": [
        "\n",
        "\n",
        "<a name=\"tips\"></a>\n",
        "\n",
        "## Practical tips"
      ]
    },
    {
      "cell_type": "markdown",
      "metadata": {
        "id": "f0dd42f7"
      },
      "source": [
        "#### Using many functions from the same package/module? Make the name shorter\n",
        "\n",
        "Imagine we want to use many of the ```numpy``` module functions in our code. Always writing ```numpy.function``` makes our code long.\n",
        "\n",
        "While importing a module use you can change how you refer to it in your code.\n"
      ]
    },
    {
      "cell_type": "code",
      "execution_count": null,
      "metadata": {
        "id": "9Hzk1_DNdDw2"
      },
      "outputs": [],
      "source": [
        "import numpy as np\n",
        "np.floor(4.5)"
      ]
    },
    {
      "cell_type": "markdown",
      "metadata": {
        "id": "516f0b21"
      },
      "source": [
        "#### Using the same function from a package/module? Get rid of the dot.\n",
        "\n",
        "Imagine we want to use ```numpy.floor``` many times in our code. Always writing ```numpy.floor``` makes our code long.\n",
        "\n",
        "You can directly can directly import the function.\n"
      ]
    },
    {
      "cell_type": "code",
      "execution_count": null,
      "metadata": {
        "id": "1iD1vNM8dF3f"
      },
      "outputs": [],
      "source": [
        "from numpy import floor\n",
        "numbers=(12.5,23.3,45.7)\n",
        "floor(numbers)"
      ]
    },
    {
      "cell_type": "markdown",
      "metadata": {
        "id": "WInT2Ld1i9PS"
      },
      "source": [
        "Tip: When using multiple functions from a module it is recomended to import the whole module and abbreviated. On the other hand, if you will use just one function of a module you can directly import this one function.\n"
      ]
    },
    {
      "cell_type": "markdown",
      "metadata": {
        "id": "QZ_GXRguS_t5"
      },
      "source": [
        "---"
      ]
    },
    {
      "cell_type": "markdown",
      "metadata": {
        "id": "RFl7zdhDAans"
      },
      "source": [
        "<a name=\"Git\"></a>\n",
        "# Section 4. Github Basics\n",
        "\n",
        "<img src =\"https://upload.wikimedia.org/wikipedia/commons/9/91/Octicons-mark-github.svg\" width = \"300px\">\n"
      ]
    },
    {
      "cell_type": "markdown",
      "metadata": {
        "id": "mqx0qM0aBonh"
      },
      "source": [
        "## Learning objectives:\n",
        "* Understanding why GitHub is useful, in different contexts.\n",
        "* Understanding basic Git concepts such as creating repositories, commiting, cloning, branches, merging\n",
        "* Using the GitHub Desktop\n",
        "* Being able to clone a repository from GitHub\n",
        "\n",
        "\n"
      ]
    },
    {
      "cell_type": "markdown",
      "metadata": {
        "id": "b38llSDi8fW-"
      },
      "source": [
        "## Content:\n",
        "1. [What is GitHub](#what)\n",
        "2. [Git fundamentals](#git-alone)\n",
        "  1. [Repositories](#repo)\n",
        "  2. [Commits](#commits)\n",
        "  3. [Branches](#branches)\n",
        "  4. [Merging](#merging)\n",
        "  5. [GitHub Desktop](#desktop)\n",
        "  6. [Cloning](#cloning)\n",
        "4. [Key concepts so far](#key)\n"
      ]
    },
    {
      "cell_type": "markdown",
      "metadata": {
        "id": "4ZyibRT5FpQ_"
      },
      "source": [
        "## What is GitHub? <a name=\"what\"></a>\n",
        "\n",
        "### Question for all:\n",
        "- Who has ever heard GitHub?\n",
        "- Who is using GitHub actively?\n",
        "- What is GitHub and why do you use it? From simple and broad reasons to more detailed once."
      ]
    },
    {
      "cell_type": "markdown",
      "metadata": {
        "id": "stxtgRwEEOm5"
      },
      "source": [
        "## Git fundamentals <a name=\"git-alone\"></a>\n",
        "\n",
        "\n",
        "\n"
      ]
    },
    {
      "cell_type": "markdown",
      "metadata": {
        "id": "Q0I4HRM8Fgqg"
      },
      "source": [
        "GitHub is a platform to **version control** your code."
      ]
    },
    {
      "cell_type": "markdown",
      "metadata": {
        "id": "gdBamiUZHB2a"
      },
      "source": [
        "### **Repositories**: Projects in GitHub. <a name=\"repo\"></a>\n",
        "\n",
        "- Material in GitHub are organized into projects which are called ```repositories```\n",
        "\n",
        "- Repositories have **names**\n",
        "- They have also **descriptions** (like a Readme file)\n",
        "- Can be **public** or **private**"
      ]
    },
    {
      "cell_type": "markdown",
      "metadata": {
        "id": "CGHTI6HEHol_"
      },
      "source": [
        "Let's create a repository in GitHub!\n",
        "- Go to https://github.com/, log in with your account.\n",
        "- Create a repository by clicking the ```+``` on the upper right and selecting \"New repository\".\n",
        "- Tick the \"Add a README file\" box to add a README."
      ]
    },
    {
      "cell_type": "markdown",
      "metadata": {
        "id": "VWxGkiejK4wX"
      },
      "source": [
        "### **Commits**: Updating your project while tracking the progress. <a name=\"commits\"></a>\n",
        "\n",
        "- ```Commit``` enables you to save the changes in a project.\n",
        "  \n",
        "  When you update something in your project (add a file, change some text or code within a file, deleting a file) a ```commit``` enables you to save your changes.\n",
        "\n",
        "- Each commit has an associated ```commit message```\n",
        "  *   You'll write these. A good commit message should describe **why** something is done.\n",
        "  * Important for you to understand why you did a certain change. Also if you're collaborating, your collaborators will have easier time to figure out why a change was made.\n",
        "\n",
        "\n",
        "<img src=\"https://cbea.ms/content/images/size/w2000/2021/01/git_commit_2x.png\" width=600px>\n",
        "image source: cbea.ms\n",
        "\n",
        "\n"
      ]
    },
    {
      "cell_type": "markdown",
      "metadata": {
        "id": "6gajALBQMkyI"
      },
      "source": [
        "Let's make our first commit.\n",
        "- Go to your repository and change the Readme file.\n",
        "- Commit the changes with a commit message."
      ]
    },
    {
      "cell_type": "markdown",
      "metadata": {
        "id": "z0NywiaBHuE_"
      },
      "source": [
        "\n",
        "### **Branches**: You can have different versions of the same project. <a name=\"branches\"></a>"
      ]
    },
    {
      "cell_type": "markdown",
      "metadata": {
        "id": "87sfUHIxJFsL"
      },
      "source": [
        "Branches are parallel versions of code that are under the same project. But why would we have parallel versions of our code?\n",
        "\n",
        "Confusing? Let's think of how a car is built.\n",
        "\n",
        "\n",
        "- Branches are very useful to **create/develop features** in a programming project.\n",
        "\n",
        "- Branches are useful to **develop and test stuff** without changing your main code.\n",
        "\n",
        "\n",
        "<img src=\"https://axolo.s3.eu-west-3.amazonaws.com/communication/blog/ultimate-pull-request/branches+in+github+3.png\" width=600px>\n",
        "image source: axolo.co\n",
        "\n"
      ]
    },
    {
      "cell_type": "markdown",
      "metadata": {
        "id": "fTYlAwoSNJDh"
      },
      "source": [
        "You can name branches as you wish (for a car: engine, lights, etc.).\n",
        "\n",
        "Your main code is created in a default branch called ```main``` (previously called ```master```). Check it out!"
      ]
    },
    {
      "cell_type": "markdown",
      "metadata": {
        "id": "CdY0Aepm9C7n"
      },
      "source": [
        "#### Create a new branch\n",
        "1. Go to your repository\n",
        "2. Select the branch button on upper left (it will be showing ```main```)\n",
        "3. Create a new branch called ```new feature```\n",
        "4. Change back to ```main``` branch"
      ]
    },
    {
      "cell_type": "markdown",
      "metadata": {
        "id": "vgImq92mOOpe"
      },
      "source": [
        "### **Merging**: Integrating the features or developed material from branches. <a name=\"merging\"></a>\n",
        "\n",
        "Now time to make some changes on our new ```new feature``` branch and integrate these changes to our ```main``` branch.\n",
        "\n",
        "1. Make sure you're on the ```new feature``` branch\n",
        "2. Make some changes in the README file and commit them to the ```new feature``` branch\n",
        "3. Go to ```pull requests```\n",
        "4. You'll see that it informs you that you made some changes on the ```new feature``` branch and asks if you want to compare and pull request. Click on that.\n",
        "5. Create the pull request\n",
        "6. Merge\n",
        "7. Delete your ```new feature``` branch since we're done with our feature.\n"
      ]
    },
    {
      "cell_type": "markdown",
      "metadata": {
        "id": "U0CCsJTvzKhT"
      },
      "source": [
        "## **GitHub Desktop**: Using GitHub on your local machine <a name=\"desktop\"></a>\n",
        "\n",
        "There are several ways of using GitHub on your local machine, most common ways are:\n",
        "- Using the terminal\n",
        "- Using the GUI (GitHub Desktop)\n",
        "\n",
        "We'll use the GUI to make it simple.\n",
        "\n",
        "1. Download GitHub Desktop: https://desktop.github.com/\n",
        "2. Log in"
      ]
    },
    {
      "cell_type": "markdown",
      "metadata": {
        "id": "kHFKoDu-3aDg"
      },
      "source": [
        "### **Pushing**: putting stuff from your local repository to your repository on GitHub servers (remote) <a name=\"pushing\"></a>\n",
        "\n",
        "Let's say you have your code on your local machine, you already structured it in a folder and now want to use GitHub.\n",
        "\n",
        "1. ```Create a repository``` for the existing code using GitHub Desktop\n",
        "2. ```publish``` the repository to your GitHub account\n",
        "2. Make a change and ```commit``` in local machine\n",
        "3. ```push``` the repository to the GitHub server\n",
        "\n"
      ]
    },
    {
      "cell_type": "markdown",
      "metadata": {
        "id": "r7eDvibX6O2D"
      },
      "source": [
        "### **Pulling**: From remote repository to local <a name=\"pulling\"></a>\n",
        "\n",
        "\n",
        "1. Go to github.com and open the previous repository that you just pushed from local\n",
        "2. Make a change and ```commit``` there\n",
        "3. Go to the GitHub Desktop in local machine and ```pull``` the repository from the GitHub server\n",
        "\n"
      ]
    },
    {
      "cell_type": "markdown",
      "metadata": {
        "id": "hS2fDgeqUikY"
      },
      "source": [
        "So far what we talked about can be used in our own coding projects to organize/track our code better. However, one of the major strenghts of Github is for collaborating or using the code that someone else generated."
      ]
    },
    {
      "cell_type": "markdown",
      "metadata": {
        "id": "OBHDjp2Wxozz"
      },
      "source": [
        "### **Cloning**: Copying the repository from GitHub to your local machine. <a name=\"cloning\"></a>\n",
        "\n",
        "**Cloning** a repository means creating a local copy of a GitHub repository on your machine. This is typically done when you want to work on the code, explore the repository, or make changes locally.\n",
        "\n",
        "> Cloning is simply copying any public code from Github to your local machine.\n",
        "\n",
        "\n",
        "**When to Use Cloning**:\n",
        "- You want to work on a project but don't plan to contribute back to the original repository.\n",
        "- You need a local copy to work offline.\n",
        "- You want to explore or experiment with the codebase.\n",
        "\n"
      ]
    },
    {
      "cell_type": "markdown",
      "metadata": {
        "id": "TuKVZ10h6_1P"
      },
      "source": [
        "Let's clone the material we prepared for you:\n",
        "\n",
        "1. Go to https://github.com/trendinafrica/Comp_Neuro-ML_course\n",
        "2. To clone, go to the green code button and click on \"Open with GitHub Desktop\"\n",
        "3. Choose a local path for it and clone\n",
        "\n"
      ]
    },
    {
      "cell_type": "markdown",
      "metadata": {
        "id": "_if2LUKXaGf2"
      },
      "source": [
        "**For people who use command line for git:**\n",
        "\n",
        "\n",
        "Open your terminal and run the following command:\n",
        "   ```sh\n",
        "   git clone <repository_url>\n",
        "   ```\n",
        "   For example:\n",
        "   ```sh\n",
        "   git clone https://github.com/username/repository.git\n",
        "   ```"
      ]
    },
    {
      "cell_type": "markdown",
      "metadata": {
        "id": "zHva8Jr67sJo"
      },
      "source": [
        "Voila! You just copied the material for the course!"
      ]
    },
    {
      "cell_type": "markdown",
      "metadata": {
        "id": "AX2BDdGraZZg"
      },
      "source": [
        "### **Forking**: Creating your own repository of someone else's repository\n",
        "\n",
        "**Forking** a repository means creating your own copy of someone else's repository on your GitHub account. This is useful for contributing to the original project or using the repository as a starting point for your own projects.\n",
        "\n",
        "**When to Use Forking**:\n",
        "- You want to contribute to an open-source project.\n",
        "- You need a separate copy of a project to modify without affecting the original.\n",
        "- You want to propose changes or enhancements to the original repository.\n",
        "\n",
        "**How to Fork**:\n",
        "1. Navigate to the repository on GitHub.\n",
        "2. Click on the \"Fork\" button at the top right of the page.\n",
        "3. GitHub will create a copy of the repository under your account.\n",
        "\n",
        "\n",
        "\n"
      ]
    },
    {
      "cell_type": "markdown",
      "metadata": {
        "id": "Cq0mr0czIKUl"
      },
      "source": [
        "## GitHub key concepts (so far): <a name=\"key\"></a>\n",
        "\n",
        "| Concept | Description |\n",
        "| ----------- | ----------- |\n",
        "| ```repository``` | A single project in GitHub.|\n",
        "| ```commit``` | A saved change in your project timeline. |\n",
        "| ```branch``` | A parallel version of your project. |\n",
        "| ```main``` | The default branch name of the main version of your project. |\n",
        "| ```merge``` | Merging one branch onto another by comparing changes. |\n",
        "| ```push``` | Update your remote repository using the local repository|\n",
        "| ```pull``` | Update your local repository using the repository on Github servers |\n",
        "| ```clone``` | Copy a repository to your local machine from GitHub servers|\n",
        "| ```fork``` | Creates a personal copy of a repository on your GitHub account. Useful for contributing to the original project or creating a new project based on the original|"
      ]
    },
    {
      "cell_type": "markdown",
      "metadata": {
        "id": "ePY07QMa8OGm"
      },
      "source": [
        "<a name=\"PythonIntro\"></a>\n",
        "# Extra (@Home if needed): Programming with Python\n",
        "\n",
        "Python tutorial and learning resources\n",
        "\n"
      ]
    },
    {
      "cell_type": "markdown",
      "metadata": {
        "id": "aR7LlA5bb0RF"
      },
      "source": [
        "## TReND Python School: Introduction to Python\n",
        "The following tutorial is prepared by the [TReND Python Course](https://trendinafrica.org/python-course/):\n",
        "\n",
        "Content creators:\n",
        "Burak Gür, Foutse Yuehgoh, Adejoke Elizabeth Memudu, Florian Birk"
      ]
    },
    {
      "cell_type": "markdown",
      "metadata": {
        "id": "hVWtWsJgmvj3"
      },
      "source": [
        "\n",
        "\n",
        "### Overview:\n",
        "#### - 3.1 [Python as a calculator](#calculator)\n",
        "#### - 3.2 [Storing data: Variables](#var)\n",
        "#### - 3.3. [Data types](#datype)\n",
        "##### - [**integers**](#int) - for numbers without decimals\n",
        "##### - [**floats**](#float) - for numbers with decimals\n",
        "##### - [**strings**](#str) - for characters, words etc.\n",
        "##### - [**booleans**](#bool) - for binary (True or False, 1 or 0)\n",
        "#### - 3.4 [Converting types](#type_conv)\n",
        "#### - 3.5 [Errors](#err)\n",
        "\n"
      ]
    },
    {
      "cell_type": "markdown",
      "metadata": {
        "id": "5hpGUfNHmvj6"
      },
      "source": [
        "---\n",
        "<a name=\"calculator\"></a>\n",
        "##**3.1 Python as a calculator**\n",
        "Python can be used as a calculator. And basic mathematical operations can be easily done using **Python operators** (pre defined symbols for doing operations between values or variables).\n",
        "\n",
        "| Operator | Name    |\n",
        "|------|------|\n",
        "|```+```  | Addition|\n",
        "|```-```  | Subtraction|\n",
        "|```*```  | Multiplication|\n",
        "|```/```  | Division|\n",
        "|```**```  | Exponentiation|\n",
        "|```%```  | Modulus|\n"
      ]
    },
    {
      "cell_type": "code",
      "execution_count": null,
      "metadata": {
        "id": "0DmPREi8TqJJ"
      },
      "outputs": [],
      "source": [
        "#Live code (add 1 to 5)"
      ]
    },
    {
      "cell_type": "code",
      "execution_count": null,
      "metadata": {
        "cellView": "form",
        "id": "UuYUjbie_j-7"
      },
      "outputs": [],
      "source": [
        "#@title  Double click for solution\n",
        "# add 1 to 5\n",
        "1+5"
      ]
    },
    {
      "cell_type": "code",
      "execution_count": null,
      "metadata": {
        "id": "wGxpNEnxmvkC"
      },
      "outputs": [],
      "source": [
        "#Live code (Multiple 2 by  3)"
      ]
    },
    {
      "cell_type": "code",
      "execution_count": null,
      "metadata": {
        "cellView": "form",
        "id": "eQ_5xVSPBW0J"
      },
      "outputs": [],
      "source": [
        "#@title  Double click for solution\n",
        "#Live code (Multiple 2 by  3)\n",
        "2*3"
      ]
    },
    {
      "cell_type": "code",
      "execution_count": null,
      "metadata": {
        "id": "imE1JikBmvkJ"
      },
      "outputs": [],
      "source": [
        "#Live code (cube of 2)"
      ]
    },
    {
      "cell_type": "code",
      "execution_count": null,
      "metadata": {
        "cellView": "form",
        "id": "M121ESeoBePF"
      },
      "outputs": [],
      "source": [
        "#@title  Double click for solution\n",
        "#Live code (cube of 2)\n",
        "2**2"
      ]
    },
    {
      "cell_type": "code",
      "execution_count": null,
      "metadata": {
        "id": "3ZwWfEqRmvkQ"
      },
      "outputs": [],
      "source": [
        "#Live code (49 modules 24)"
      ]
    },
    {
      "cell_type": "code",
      "execution_count": null,
      "metadata": {
        "cellView": "form",
        "id": "3F7HtNTQBo6h"
      },
      "outputs": [],
      "source": [
        "#@title  Double click for solution\n",
        "#Live code of  49 modules 24\n",
        "49%24"
      ]
    },
    {
      "cell_type": "markdown",
      "metadata": {
        "id": "omzbU-4amvkk"
      },
      "source": [
        "---\n",
        "<a name=\"var\"></a>\n",
        "##**3.2 Storing data: Variables**\n",
        "\n",
        "Variables are used to **store** data (also known as **value** in programming) of any sort.\n",
        "\n",
        "You can think of them as a depot where you put data inside and each depot has its unique name:\n",
        "\n",
        "<img src= \"https://github.com/birkfl/TReND/blob/main/Python_Workshop2022/img/variable1.svg?raw=true\" height =\"300px\">\n",
        "\n",
        "- **Name** of the variable: The unique name that identifies this storage space.\n",
        "- **Value** of the variable: Data that is stored inside this space.\n",
        "- **Type** of the variable: Data type that is stored inside this space.\n",
        "\n",
        "**Data types will be part of the next section!**\n",
        "\n",
        "\n"
      ]
    },
    {
      "cell_type": "markdown",
      "metadata": {
        "id": "rTeyPbr8IOmy"
      },
      "source": [
        "### Creating variables: Assignments\n",
        "Variables are created with an assignment statement. The syntax (kind of grammar) of variable assignment is:\n",
        "\n",
        "```variable_name = a value``` (or an expression e.g., ```1+1```)"
      ]
    },
    {
      "cell_type": "code",
      "execution_count": null,
      "metadata": {
        "id": "XLkbFyesC5f4"
      },
      "outputs": [],
      "source": [
        "# Live code (Define variables \"year\", \"language\", \"coding minutes\")"
      ]
    },
    {
      "cell_type": "code",
      "execution_count": null,
      "metadata": {
        "cellView": "form",
        "id": "pAa5_9YQmvkl"
      },
      "outputs": [],
      "source": [
        "#@title  Double click for solution\n",
        "# Define variables \"year\", \"language\", \"coding minutes\"\n",
        "year = 2022           # year\n",
        "language = \"Python\"   # Programming language\n",
        "coding_minutes = 1550 # minutes of coding"
      ]
    },
    {
      "cell_type": "markdown",
      "metadata": {
        "id": "EmhSSvbHmvkq"
      },
      "source": [
        "<img src= \"https://github.com/birkfl/TReND/blob/main/Python_Workshop2022/img/variable_assign.svg?raw=true\" height =\"300px\">\n",
        "\n",
        "\n",
        "We just *defined* variables by assigning values to each of them. Now we can use them.\n",
        "\n",
        "How many **hours** did we spend **coding** this year?"
      ]
    },
    {
      "cell_type": "markdown",
      "metadata": {
        "id": "b-i-enJqGD7k"
      },
      "source": [
        "<img src= \"https://github.com/birkfl/TReND/blob/main/Python_Workshop2022/img/variable_divide.svg?raw=true\" height =\"300px\">\n",
        "\n"
      ]
    },
    {
      "cell_type": "code",
      "execution_count": null,
      "metadata": {
        "id": "jtITc48hDiRS"
      },
      "outputs": [],
      "source": [
        "#Live code (How many hours did I spend with coding in the year 2022? Print the answer!)"
      ]
    },
    {
      "cell_type": "code",
      "execution_count": null,
      "metadata": {
        "cellView": "form",
        "id": "B7_BrPLfDbDE"
      },
      "outputs": [],
      "source": [
        "#@title  Double click for solution\n",
        "#Live code How many hours did I spend with coding in the year 2022? Print the answer!\n",
        "coding_hours = coding_minutes / 60\n",
        "print(\"Hours of coding in 2022:\", coding_hours)"
      ]
    },
    {
      "cell_type": "markdown",
      "metadata": {
        "id": "ky6xeYgQHWLY"
      },
      "source": [
        "### **Changing variables**\n",
        "When you use variables in other assignments or operations, they don't change!\n"
      ]
    },
    {
      "cell_type": "markdown",
      "metadata": {
        "id": "7UwzxQZuQAig"
      },
      "source": [
        "To change variables, we need to assign them again."
      ]
    },
    {
      "cell_type": "code",
      "execution_count": null,
      "metadata": {
        "id": "XyZMO22__Wj9"
      },
      "outputs": [],
      "source": [
        "# Live code (save coding_days as new variable and print it together with coding_hours)"
      ]
    },
    {
      "cell_type": "code",
      "execution_count": null,
      "metadata": {
        "cellView": "form",
        "colab": {
          "base_uri": "https://localhost:8080/",
          "height": 221
        },
        "id": "Jzj8TaAmD_op",
        "outputId": "2f176905-de65-4d8d-985d-1274ed490d9e"
      },
      "outputs": [],
      "source": [
        "#@title Double click for solution\n",
        "# Live code (save coding_days as new variable and print it together with coding_hours)\n",
        "# coding_hours / 24\n",
        "coding_days = coding_hours / 24\n",
        "print(\"coding_hours is:\",coding_hours)\n",
        "print(\"coding_days is:\",coding_days)"
      ]
    },
    {
      "cell_type": "markdown",
      "metadata": {
        "id": "vKtBd1_-mvk0"
      },
      "source": [
        "### Naming variables\n",
        "Python variable names:\n",
        "- can contain **letters**, **numbers** and **underscores**\n",
        "- can **NOT** start with a **number** (```1st_name``` -> won't work)\n",
        "- are **case sensitive** (```age``` vs ```Age``` are different variables)\n",
        "\n",
        "Suggestion: Variable names should be **concise** (short but informative):\n",
        "\n",
        "- ```my_telephone_number``` -> ```phone_num```\n",
        "- ```p_n``` -> ```phone_num```\n"
      ]
    },
    {
      "cell_type": "markdown",
      "metadata": {
        "id": "QQ5Hhh-dmvlP"
      },
      "source": [
        "### Checking - deleting variables\n",
        "Now we have defined several varibles in the previous cells. These are stored in our **workspace** (or namespace).\n",
        "\n",
        "- write ```whos``` to check which variables we have in our current workspace.\n"
      ]
    },
    {
      "cell_type": "code",
      "execution_count": null,
      "metadata": {
        "id": "RHF-SO5XmvlQ"
      },
      "outputs": [],
      "source": [
        "whos"
      ]
    },
    {
      "cell_type": "markdown",
      "metadata": {
        "id": "nkIG6WQKmvlV"
      },
      "source": [
        "We can erase them using ```%reset```"
      ]
    },
    {
      "cell_type": "code",
      "execution_count": null,
      "metadata": {
        "id": "iFJ51Z4vmvlW"
      },
      "outputs": [],
      "source": [
        "%reset"
      ]
    },
    {
      "cell_type": "code",
      "execution_count": null,
      "metadata": {
        "id": "zxl9L3oSmvlZ"
      },
      "outputs": [],
      "source": [
        "whos"
      ]
    },
    {
      "cell_type": "markdown",
      "metadata": {
        "id": "cNs9q-kzmvk9"
      },
      "source": [
        "---\n",
        "<a name=\"datype\"></a>\n",
        "##**3.3 Data types**\n",
        "    \n",
        "Data can have different types.\n",
        "\n",
        "For example:\n",
        "\n",
        "<img src= \"https://github.com/birkfl/TReND/blob/main/Python_Workshop2022/img/variable_types.svg?raw=true\" width =\"600px\">\n",
        "\n",
        "Python's most common data types are:\n",
        "\n",
        "**For numbers:**\n",
        "- [integers](#int) (for storing integers - whole numbers - e.g. 2)\n",
        "\n",
        "\n",
        "- [floats](#float) (for storing numbers with fractions e.g. 1.0025)\n",
        "\n",
        "**For characters (text):**\n",
        "- [strings](#str) (for characters, words etc.)\n",
        "\n",
        "**For logicals (1, 0 - True, False)**:\n",
        "- [booleans](#bool) (binary data: True or False)\n",
        "\n",
        "\n",
        "Note: Data types to store multiple data points (arrays, lists etc.) will be covered in the tutorial *Theory 3*!"
      ]
    },
    {
      "cell_type": "markdown",
      "metadata": {
        "id": "3KTHnvqfmvk9"
      },
      "source": [
        "<a name=\"int\"></a>\n",
        "### **Integers**\n"
      ]
    },
    {
      "cell_type": "markdown",
      "metadata": {
        "id": "qsI43Ug8UvCk"
      },
      "source": [
        "Below are some examples of integers"
      ]
    },
    {
      "cell_type": "code",
      "execution_count": null,
      "metadata": {
        "id": "-7LmZYJTmvk_"
      },
      "outputs": [],
      "source": [
        "# Live code (Example of integer. How old are you? When have you been born? Print each answer in a sentence)"
      ]
    },
    {
      "cell_type": "code",
      "execution_count": null,
      "metadata": {
        "cellView": "form",
        "id": "tkm6cLYjEmvZ"
      },
      "outputs": [],
      "source": [
        "#@title  Double click for solution\n",
        "# Live code - Example of integer. How old are you? When have you been born?\n",
        "age = 27\n",
        "birthyear = 1995\n",
        "\n",
        "print(\"I am\", age, \"years old.\")\n",
        "print(\"I was born in\", birthyear)"
      ]
    },
    {
      "cell_type": "markdown",
      "metadata": {
        "id": "JhQl609rmvlE"
      },
      "source": [
        "We can check the type of variables by using the ```type()``` function:"
      ]
    },
    {
      "cell_type": "code",
      "execution_count": null,
      "metadata": {
        "id": "AUGoRN2emvlF"
      },
      "outputs": [],
      "source": [
        "# Live code (Print the data type of the age variable)"
      ]
    },
    {
      "cell_type": "code",
      "execution_count": null,
      "metadata": {
        "cellView": "form",
        "id": "hFWxk7Q_E7eu"
      },
      "outputs": [],
      "source": [
        "#@title  Double click for solution\n",
        "# Live code - Print the data type of the age variable\n",
        "print(type(age))"
      ]
    },
    {
      "cell_type": "markdown",
      "metadata": {
        "id": "e8owah9mVQOS"
      },
      "source": [
        "It will print out: <class 'int'> meaning that the type (you call data types \"class\") is integer."
      ]
    },
    {
      "cell_type": "markdown",
      "metadata": {
        "id": "QrTbeVq-mvll"
      },
      "source": [
        "<a name=\"float\"></a>\n",
        "### **Floats**\n",
        "**Floating point number** (Float) is a way of representing a non-integer real number with a computer.\n"
      ]
    },
    {
      "cell_type": "code",
      "execution_count": null,
      "metadata": {
        "id": "dMWK7nTimvll"
      },
      "outputs": [],
      "source": [
        "# Live code (Let's calculate my speed from home to work, assign variables distance (km) and time (minutes))"
      ]
    },
    {
      "cell_type": "code",
      "execution_count": null,
      "metadata": {
        "cellView": "form",
        "id": "BTvqHEaEFgDT"
      },
      "outputs": [],
      "source": [
        "#@title  Double click for solution\n",
        "# Live code - Let's calculate my speed from home to work\n",
        "distance = 3 # in kms\n",
        "time = 7 # in minutes"
      ]
    },
    {
      "cell_type": "code",
      "execution_count": null,
      "metadata": {
        "id": "0WB5GNguBD65"
      },
      "outputs": [],
      "source": [
        "#Live code (store distance/(time/60) in a variable called speed. Print out the average speed from work and the variable type of  speed)"
      ]
    },
    {
      "cell_type": "code",
      "execution_count": null,
      "metadata": {
        "cellView": "form",
        "id": "0l0CKdSXFrK2"
      },
      "outputs": [],
      "source": [
        "#@title  Double click for solution\n",
        "#Live code - (store distance/(time/60) in a variable called speed. Print out the average speed from work and the variable type of  speed)\n",
        "speed = distance/(time/60) # km/h\n",
        "print(\"My average speed from home to work is: \", speed, \"km/h\")\n",
        "print(\"'speed' variable's value is \", type(speed))"
      ]
    },
    {
      "cell_type": "markdown",
      "metadata": {
        "id": "CpmMXtvdmvlp"
      },
      "source": [
        "<a name=\"str\"></a>\n",
        "### **Strings**\n",
        "\n",
        "What if we want to store characters instead of numbers? Usually we want to store a set of characters instead of storing each character 1 by 1 (like instead of storing - n, a, m, e - we want to store them together as -name-). This is called a string of characters. That's why the type is also called **string**."
      ]
    },
    {
      "cell_type": "markdown",
      "metadata": {
        "id": "yJX3i2Gimvly"
      },
      "source": [
        "- We should use **double quoutes ```\" __ \"``` or single quotes ```' __ '```** when limiting a string.\n",
        "\n"
      ]
    },
    {
      "cell_type": "code",
      "execution_count": null,
      "metadata": {
        "id": "lJK9sAoTmvlq"
      },
      "outputs": [],
      "source": [
        "# Live code (create and print your variable name and country)"
      ]
    },
    {
      "cell_type": "code",
      "execution_count": null,
      "metadata": {
        "cellView": "form",
        "id": "HQtfsqTAF5ne"
      },
      "outputs": [],
      "source": [
        "#@title  Double click for solution\n",
        "# Live code - Some string examples\n",
        "name = \"Florian\"\n",
        "country = 'Germany'\n",
        "\n",
        "print(name, \"is from\", country)"
      ]
    },
    {
      "cell_type": "markdown",
      "metadata": {
        "id": "kMY4A4FRmvl6"
      },
      "source": [
        "#### Adding blank space (a.k.a. whitespace)\n",
        "- Use ```\\n``` to add a new line (like pressing enter)\n",
        "- Use ```\\t``` for adding a tab\n",
        "\n"
      ]
    },
    {
      "cell_type": "code",
      "execution_count": null,
      "metadata": {
        "id": "YWYYVqcfmvl6"
      },
      "outputs": [],
      "source": [
        "# Live code (Try the new line and tab option! Try to replicate the print output below with only one string variable.)"
      ]
    },
    {
      "cell_type": "code",
      "execution_count": null,
      "metadata": {
        "cellView": "form",
        "id": "E9HspAKYGmmF"
      },
      "outputs": [],
      "source": [
        "#@title  Double click for solution\n",
        "# Live code - Tab example\n",
        "two_line_string = '\\tHello  world \\n A new line'\n",
        "print(two_line_string)"
      ]
    },
    {
      "cell_type": "markdown",
      "metadata": {
        "id": "DxVKoiObmvmC"
      },
      "source": [
        "#### **Concatenating (combining)**\n",
        "Sometimes we want to combine strings. There are many ways of doing it.\n",
        "\n",
        "A fast and easy-to-read way is using the **plus** **```+```** **operator**."
      ]
    },
    {
      "cell_type": "code",
      "execution_count": null,
      "metadata": {
        "id": "M6JPETLYmvmC"
      },
      "outputs": [],
      "source": [
        "# Live code (Let's concatenate two string variables. Define your name and surname as strings and concatenate them with the + operator)"
      ]
    },
    {
      "cell_type": "code",
      "execution_count": null,
      "metadata": {
        "cellView": "form",
        "id": "VdbtG3Z-GrSD"
      },
      "outputs": [],
      "source": [
        "#@title  Double click for solution\n",
        "# The plus operator to combine strings\n",
        "name = \"Florian\"\n",
        "surname = \"Birk\"\n",
        "\n",
        "\n",
        "fullname = name + surname # Just joining them together\n",
        "fullname_nice = name + ' ' + surname # Joining with a space\n",
        "\n",
        "\n",
        "print(fullname)\n",
        "print(fullname_nice)"
      ]
    },
    {
      "cell_type": "markdown",
      "metadata": {
        "id": "FWbDIxwXmvmO"
      },
      "source": [
        "#### **String formatting**\n",
        "An easier way of concatenating is with the **f strings** (formatted string literals).\n",
        "\n"
      ]
    },
    {
      "cell_type": "code",
      "execution_count": null,
      "metadata": {
        "id": "vrY2cND5mvmP"
      },
      "outputs": [],
      "source": [
        "# Live code (Concatenate with f string )"
      ]
    },
    {
      "cell_type": "code",
      "execution_count": null,
      "metadata": {
        "cellView": "form",
        "id": "tj2pviutG1bQ"
      },
      "outputs": [],
      "source": [
        "#@title  Double click for solution\n",
        "# Live code - Concatenate with f string\n",
        "name = \"Florian\"\n",
        "surname = \"Birk\"\n",
        "age = 27\n",
        "\n",
        "\n",
        "print(f'My name is {name}, my surname is {surname}, my age is {age}')"
      ]
    },
    {
      "cell_type": "markdown",
      "metadata": {
        "id": "0YwpSRbXqhs1"
      },
      "source": [
        "<a name=\"bool\"></a>\n",
        "### **Booleans**\n",
        "\n",
        "Booleans are data that can vary between only two values (binary) e.g. **0-1** or **True-False**\n",
        "\n",
        "Use **capital letters** for boolean variables!"
      ]
    },
    {
      "cell_type": "code",
      "execution_count": null,
      "metadata": {
        "id": "yfST9cXyqlIc"
      },
      "outputs": [],
      "source": [
        "# Live code (Example of boolean (football), let's create some booleans variables)"
      ]
    },
    {
      "cell_type": "code",
      "execution_count": null,
      "metadata": {
        "cellView": "form",
        "id": "Uv79IUPCHPBC"
      },
      "outputs": [],
      "source": [
        "#@title  Double click for solution\n",
        "# Live code - Example of boolean (football)\n",
        "name = \"Lionel\"\n",
        "surname = \"Messi\"\n",
        "age = 35\n",
        "is_programmer = False\n",
        "is_footballplayer = True\n",
        "is_argentine = True\n",
        "is_male = True\n",
        "is_thebest = False # False or True ;)"
      ]
    },
    {
      "cell_type": "markdown",
      "metadata": {
        "id": "b2HtvueLHsMw"
      },
      "source": [
        "We can use logical operators (```and```, ```or```, ```not```) to work with them.\n",
        "\n",
        "\n"
      ]
    },
    {
      "cell_type": "code",
      "execution_count": null,
      "metadata": {
        "id": "cVrepAjoHxZl"
      },
      "outputs": [],
      "source": [
        "# Live code (Is Lionel Messi either a football player or a programmer?)"
      ]
    },
    {
      "cell_type": "code",
      "execution_count": null,
      "metadata": {
        "cellView": "form",
        "id": "wAGdrN8aHo6v"
      },
      "outputs": [],
      "source": [
        "#@title  Double click for solution\n",
        "# Live code - Is Lionel Messi either a soccer player or a programmer?\n",
        "is_programmer or is_footballplayer"
      ]
    },
    {
      "cell_type": "code",
      "execution_count": null,
      "metadata": {
        "id": "y8z7x_egkRbv"
      },
      "outputs": [],
      "source": [
        "# Live code (Is Lionel the best football player?)"
      ]
    },
    {
      "cell_type": "code",
      "execution_count": null,
      "metadata": {
        "cellView": "form",
        "id": "QUFQNND6H6Yj"
      },
      "outputs": [],
      "source": [
        "#@title  Double click for solution\n",
        "# Live code - Is Lionel the best soccer player?\n",
        "is_footballplayer and is_thebest"
      ]
    },
    {
      "cell_type": "markdown",
      "metadata": {
        "id": "ql_v8nSEzgyO"
      },
      "source": [
        "More about booleans: [realpython - booleans](https://realpython.com/python-boolean/)"
      ]
    },
    {
      "cell_type": "markdown",
      "metadata": {
        "id": "V734qOpGmvmo"
      },
      "source": [
        "<a name=\"type_conv\"></a>\n",
        "##**3.4 Converting types**\n",
        "Sometimes we want to convert the types of variables in order to work with other types of variables."
      ]
    },
    {
      "cell_type": "markdown",
      "metadata": {
        "id": "I1kwPSkbtFtE"
      },
      "source": [
        "For example: when we **read text data** and want to do calculations:"
      ]
    },
    {
      "cell_type": "code",
      "execution_count": null,
      "metadata": {
        "id": "ah2svJZltJf4"
      },
      "outputs": [],
      "source": [
        "# Live code (Working with strings for calculations (variables: distance (km) and time (hours)))"
      ]
    },
    {
      "cell_type": "code",
      "execution_count": null,
      "metadata": {
        "cellView": "form",
        "id": "Avwj2icRIL3l"
      },
      "outputs": [],
      "source": [
        "#@title  Double click for solution\n",
        "# Live code - Working with strings for calculations\n",
        "distance = \"300.6\" # km\n",
        "time = \"4.1\" # hours"
      ]
    },
    {
      "cell_type": "code",
      "execution_count": null,
      "metadata": {
        "id": "Dm29s-FkDVZw"
      },
      "outputs": [],
      "source": [
        "# Live code (Calculate the speed)"
      ]
    },
    {
      "cell_type": "code",
      "execution_count": null,
      "metadata": {
        "cellView": "form",
        "id": "wzQadDXWIS_3"
      },
      "outputs": [],
      "source": [
        "#@title  Double click for solution\n",
        "# Live code - Calculate the speed\n",
        "speed = distance / time"
      ]
    },
    {
      "cell_type": "markdown",
      "metadata": {
        "id": "6-nEQmUGscC1"
      },
      "source": [
        "We can't do calculations with strings!\n",
        "\n",
        "We can convert types of data to each other by using **the target type name**:"
      ]
    },
    {
      "cell_type": "markdown",
      "metadata": {
        "id": "EfFUTjVBt6AN"
      },
      "source": [
        "#### **Watch out!**\n",
        "\n",
        "Be careful of not using an improper data type for your conversion. Python will catch this but it is always good to be aware.\n",
        "\n",
        "e.g. if you convert 300.6 to an ```int``` - but remember, an integer can not handle decimals."
      ]
    },
    {
      "cell_type": "code",
      "execution_count": null,
      "metadata": {
        "id": "zTf37GZIuNwr"
      },
      "outputs": [],
      "source": [
        "print(\"Distance\", distance, \"as int: \", int(distance))"
      ]
    },
    {
      "cell_type": "code",
      "execution_count": null,
      "metadata": {
        "id": "gK0ubylctrky"
      },
      "outputs": [],
      "source": [
        "# Live code (Convert the string to a float before calculating the speed)"
      ]
    },
    {
      "cell_type": "code",
      "execution_count": null,
      "metadata": {
        "cellView": "form",
        "id": "OfPd7oYSInhn"
      },
      "outputs": [],
      "source": [
        "#@title Double click for solution\n",
        "# Live code - Convert to string to float\n",
        "speed = float(distance) / float(time)\n",
        "print(\"Speed is\", speed, \" km/h\")\n",
        "print(\"'speed' type is now: \",type(speed))"
      ]
    },
    {
      "cell_type": "markdown",
      "metadata": {
        "id": "CSykGqfbmvk1"
      },
      "source": [
        "---\n",
        "<a name=\"err\"></a>\n",
        "##**3.5 Errors**\n",
        "\n",
        "We are all human. Sometimes we might write incorrect code and python can inform this to us by producing an error. These errors also contain messages that explain what went wrong while python was executing your code.\n"
      ]
    },
    {
      "cell_type": "code",
      "execution_count": null,
      "metadata": {
        "id": "oqw25mWzmvk2"
      },
      "outputs": [],
      "source": [
        "# Live code (Not defined error)"
      ]
    },
    {
      "cell_type": "code",
      "execution_count": null,
      "metadata": {
        "cellView": "form",
        "id": "Y4Q-kjEoIyrX"
      },
      "outputs": [],
      "source": [
        "#@title Double click for solution\n",
        "# Live code - Not defined error\n",
        "print(y)\n",
        "y = 10"
      ]
    },
    {
      "cell_type": "markdown",
      "metadata": {
        "id": "QG8JhoahxAW0"
      },
      "source": [
        "**Tip:** You can click on \"SEARCH STACK OVERFLOW\" button to see if someone else has encountered a similar error and provided a solution."
      ]
    },
    {
      "cell_type": "markdown",
      "metadata": {
        "id": "EQssVClomvk8"
      },
      "source": [
        "\n",
        "These messages are composed in a logical way, :\n",
        "1. What is the **type of error** (<font color=red>NameError</font>) -> [More on error types here](https://docs.python.org/3/tutorial/errors.html)\n",
        "2. **Where (which file)** the error occured (in our case this is not useful because we just have this file)\n",
        "4. **Which line** has the error producing code\n",
        "4. **Why** there was an error\n",
        "\n",
        "\n"
      ]
    },
    {
      "cell_type": "code",
      "execution_count": null,
      "metadata": {
        "id": "28xsHsRFaKuV"
      },
      "outputs": [],
      "source": [
        "# Syntax/Identation error\n",
        "print(\"This workshop is so much fun!\")\n",
        "print(\"I could not find any errors yet\"\")\n",
        "weight = 70\n",
        "height = 180"
      ]
    },
    {
      "cell_type": "code",
      "execution_count": null,
      "metadata": {
        "id": "b-nRdE3ldJxP"
      },
      "outputs": [],
      "source": [
        "# Zero division error\n",
        "10 * (1/0)"
      ]
    },
    {
      "cell_type": "markdown",
      "metadata": {
        "id": "e5hYboOpJBCD"
      },
      "source": [
        "### **Bonus: Commenting on code**\n",
        "We can add some text to our code to inform/remind ourselves or others:\n",
        "- **What** our code is doing\n",
        "- **Why** it is doing this particular thing. (more important than what)\n",
        "- Be **conscise**!"
      ]
    },
    {
      "cell_type": "code",
      "execution_count": null,
      "metadata": {
        "colab": {
          "base_uri": "https://localhost:8080/"
        },
        "id": "qk8ozUBjvGnc",
        "outputId": "f123d357-a724-483e-f53d-d7e928490d08"
      },
      "outputs": [],
      "source": [
        "height_cm = 183\n",
        "\n",
        "# Too long comment\n",
        "height_feet = height_cm / 30.48 # 1 foot is 30.48 cm so that's why we divide the height in cm with 30.48\n",
        "\n",
        "# Not explanatory\n",
        "height_feet = height_cm / 30.48 # Divide by 30.48\n",
        "\n",
        "# Conscise: good!\n",
        "height_feet = height_cm / 30.48 # 1 foot is 30.48 cm\n",
        "print(\"height_feet is:\",height_feet)"
      ]
    },
    {
      "cell_type": "markdown",
      "metadata": {
        "id": "WGth40rgx0bP"
      },
      "source": [
        "\n",
        "---\n",
        "<a name=\"selfstudy\"></a>\n",
        "##**4. Self Study**\n",
        "\n",
        "**=================================================================**\n"
      ]
    },
    {
      "cell_type": "markdown",
      "metadata": {
        "id": "2i83Xpa8U0nu"
      },
      "source": [
        "### **4.1 Basic Operations**"
      ]
    },
    {
      "cell_type": "markdown",
      "metadata": {
        "id": "-UHXB6RXmvkW"
      },
      "source": [
        "The **order** of operations is important.\n",
        "\n",
        "Use parantheses ```()``` to define order of operations.\n",
        "\n"
      ]
    },
    {
      "cell_type": "markdown",
      "metadata": {
        "id": "TTaK_UGTIrHg"
      },
      "source": [
        "Add 3 to 5 and divide by 4 -> **result is 2**"
      ]
    },
    {
      "cell_type": "code",
      "execution_count": null,
      "metadata": {
        "id": "_zHSy_SQVy4_"
      },
      "outputs": [],
      "source": [
        "# Task - Add 3 and 5 and divide by 4"
      ]
    },
    {
      "cell_type": "code",
      "execution_count": null,
      "metadata": {
        "cellView": "form",
        "id": "kVBYq-_CByda"
      },
      "outputs": [],
      "source": [
        "#@title  Double click for solution\n",
        "# Add 3 and 5 and divide the results by 4\n",
        "3+5/4"
      ]
    },
    {
      "cell_type": "code",
      "execution_count": null,
      "metadata": {
        "id": "Xxa6PhG4ByZa"
      },
      "outputs": [],
      "source": [
        "# Task - Add 3 and 5 and divide the final answer by 4"
      ]
    },
    {
      "cell_type": "code",
      "execution_count": null,
      "metadata": {
        "cellView": "form",
        "id": "YOv6DOFrB5J2"
      },
      "outputs": [],
      "source": [
        "#@title  Double click for solution\n",
        "# Add 3 and 5 and divide the final answer by 4\n",
        "(3+5)/4"
      ]
    },
    {
      "cell_type": "markdown",
      "metadata": {
        "id": "ev_65pkpNCOA"
      },
      "source": [
        "### Seeing our results with ```print()``` function\n",
        "When we write multiple lines of code that contain operations, we can just see the result of our last operation.\n",
        "\n"
      ]
    },
    {
      "cell_type": "code",
      "execution_count": null,
      "metadata": {
        "id": "P11zbX2qPG7W"
      },
      "outputs": [],
      "source": [
        "# Task - Do at least two number operations (division or multiplication) in two different lines of code. What do you recognize in the output?"
      ]
    },
    {
      "cell_type": "code",
      "execution_count": null,
      "metadata": {
        "cellView": "form",
        "id": "z2W5E1gdCC9q"
      },
      "outputs": [],
      "source": [
        "#@title Double click for solution\n",
        "# multiples lines of operations\n",
        "# You should see only the last operation beeing printed if you do not use the \"print()\" function\n",
        "1+2\n",
        "2+4"
      ]
    },
    {
      "cell_type": "markdown",
      "metadata": {
        "id": "dUi6u71eW5Xj"
      },
      "source": [
        "To see stuff after running our code, we can use the ```print()``` function of python:"
      ]
    },
    {
      "cell_type": "code",
      "execution_count": null,
      "metadata": {
        "id": "Ae_DwGOu-zIi"
      },
      "outputs": [],
      "source": [
        "# Task - Print out the results of the previous codes using the print() function"
      ]
    },
    {
      "cell_type": "code",
      "execution_count": null,
      "metadata": {
        "cellView": "form",
        "id": "Yi6UdJsRCLHm"
      },
      "outputs": [],
      "source": [
        "#@title  Double click for solution\n",
        "# Live code (print out the results of the previous codes)\n",
        "print(3+3)\n",
        "print(1+2)"
      ]
    },
    {
      "cell_type": "markdown",
      "metadata": {
        "id": "hNDiejTPJNNC"
      },
      "source": [
        "Functions usually take inputs and produce outputs.\n",
        "> ```output = function_name(input1,input2,...,inputN)```\n",
        "\n",
        "More on **functions later on the course**!"
      ]
    },
    {
      "cell_type": "markdown",
      "metadata": {
        "id": "OUSrFKOVImI-"
      },
      "source": [
        "```print()``` function can take multiple inputs (separated by ```,```) and prints them side by side.\n",
        "\n",
        "> ```print(input1, input2, ..., inputN)```\n",
        "\n"
      ]
    },
    {
      "cell_type": "code",
      "execution_count": null,
      "metadata": {
        "id": "zvAEIjukI7Tn"
      },
      "outputs": [],
      "source": [
        "# Task - Print multiple inputs (numbers, strings, etc.) using one print statement"
      ]
    },
    {
      "cell_type": "code",
      "execution_count": null,
      "metadata": {
        "cellView": "form",
        "id": "Eaugfm5HCUOz"
      },
      "outputs": [],
      "source": [
        "#@title  Double click for solution\n",
        "print(3+3,3+2,4)"
      ]
    },
    {
      "cell_type": "markdown",
      "metadata": {
        "id": "mMuw-9b_U_II"
      },
      "source": [
        "### **4.2 Variables**"
      ]
    },
    {
      "cell_type": "markdown",
      "metadata": {
        "id": "sv582i1Mwpl1"
      },
      "source": [
        "**Integers**\n",
        "\n",
        "We can use integer variables with the operations we learned above."
      ]
    },
    {
      "cell_type": "markdown",
      "metadata": {
        "id": "kV0vFYn9mvle"
      },
      "source": [
        "What happens if we do a division that yields a fractional value with two integer type variables of your choice.(e.g. 5/2 = 2.5).\n",
        "\n",
        "\n",
        "- What is the type of our result variable?"
      ]
    },
    {
      "cell_type": "code",
      "execution_count": null,
      "metadata": {
        "id": "cuI0fOiEmvlg"
      },
      "outputs": [],
      "source": [
        "# Task - Print x by y and assign it to z\n",
        "\n",
        "# Task - Print x, y, and z and their types"
      ]
    },
    {
      "cell_type": "code",
      "execution_count": null,
      "metadata": {
        "cellView": "form",
        "id": "zqPGIt_6FVfT"
      },
      "outputs": [],
      "source": [
        "#@title  Double click for solution\n",
        "# Live code - Print x by y and assign it to z\n",
        "x = 5\n",
        "y = 2\n",
        "z = x/y\n",
        "\n",
        "# Print x, y, and z and their types\n",
        "print(\"x is\",x, \"y is\",y, \"z is\",z)\n",
        "print(\"x is\",type(x), \"y is\",type(y), \"z is\",type(z))"
      ]
    },
    {
      "cell_type": "code",
      "execution_count": null,
      "metadata": {
        "id": "6hKD9EgX_mMt"
      },
      "outputs": [],
      "source": [
        "# Task - Change the value of coding minutes and all subsequent variables of coding_hours and coding_days. Print all three time units"
      ]
    },
    {
      "cell_type": "code",
      "execution_count": null,
      "metadata": {
        "cellView": "form",
        "id": "pbB1wWekEJMh"
      },
      "outputs": [],
      "source": [
        "#@title  Double click for solution\n",
        "#Live code (change the value of coding minutes and print all three time units)\n",
        "coding_minutes = 2500\n",
        "coding_hours = coding_minutes / 60\n",
        "coding_days = coding_hours / 24\n",
        "print(\"coding_minutes:\", coding_minutes, \"coding_hours:\", coding_hours, \"coding_days:\", coding_days)"
      ]
    },
    {
      "cell_type": "markdown",
      "metadata": {
        "id": "VSVBnMflvZkr"
      },
      "source": [
        "**Strings**"
      ]
    },
    {
      "cell_type": "markdown",
      "metadata": {
        "id": "65yQQBSHqXp5"
      },
      "source": [
        "- We can use the **escape character** ```\\``` to continue our string in the next line of code.\n",
        "\n",
        "  This doesn't change the way it is printed."
      ]
    },
    {
      "cell_type": "code",
      "execution_count": null,
      "metadata": {
        "id": "c5Ixy_R7qgFx"
      },
      "outputs": [],
      "source": [
        "# Task - Defining a multi line string in the code, printed only in one line of output."
      ]
    },
    {
      "cell_type": "code",
      "execution_count": null,
      "metadata": {
        "cellView": "form",
        "id": "-VCHaZV_GFAw"
      },
      "outputs": [],
      "source": [
        "#@title  Double click for solution\n",
        "# Live code - Defining a multi line string\n",
        "multiline_string_1 = 'This text is getting too long \\\n",
        "so I can continue on the next line of code'\n",
        "\n",
        "print(multiline_string_1)"
      ]
    },
    {
      "cell_type": "markdown",
      "metadata": {
        "id": "-DaaY6LfqYGE"
      },
      "source": [
        "- Or, we can use **triple quoutes ```''' __ '''```** if we would like to use multiline strings"
      ]
    },
    {
      "cell_type": "code",
      "execution_count": null,
      "metadata": {
        "id": "Dr9G_Tcumvl3"
      },
      "outputs": [],
      "source": [
        "# Task - Define a multi line string using the triple quote string."
      ]
    },
    {
      "cell_type": "code",
      "execution_count": null,
      "metadata": {
        "cellView": "form",
        "id": "qvDtoE06GOYZ"
      },
      "outputs": [],
      "source": [
        "#@title  Double click for solution\n",
        "# Live code - A multiline string\n",
        "multiline_string_2 = '''This\n",
        "is\n",
        "a\n",
        "multiline\n",
        "string\n",
        "'''\n",
        "print(multiline_string_2)"
      ]
    },
    {
      "cell_type": "markdown",
      "metadata": {
        "id": "n4Ht52q9QvgS"
      },
      "source": [
        "Remember the **f strings**? We can even do operations within the f strings."
      ]
    },
    {
      "cell_type": "code",
      "execution_count": null,
      "metadata": {
        "id": "CHG8or1tvcCa"
      },
      "outputs": [],
      "source": [
        "# Task - add 10 to your age and print it. Rember to check if your age is already assigned as a variable to the notebook. Do you remember the command to check for existing variables?"
      ]
    },
    {
      "cell_type": "code",
      "execution_count": null,
      "metadata": {
        "cellView": "form",
        "id": "nsVoyVTzHFGG"
      },
      "outputs": [],
      "source": [
        "#@title  Double click for solution\n",
        "# Live code - add 10 to your age and print it\n",
        "print(f'My age in 10 years is {age+10}')"
      ]
    },
    {
      "cell_type": "markdown",
      "metadata": {
        "id": "N8UKcosuvrWy"
      },
      "source": [
        "Some more info about the f strings [here](https://realpython.com/python-f-strings/)."
      ]
    },
    {
      "cell_type": "markdown",
      "metadata": {
        "id": "2RUwT-zE1PtJ"
      },
      "source": [
        "**Boolean**"
      ]
    },
    {
      "cell_type": "code",
      "execution_count": null,
      "metadata": {
        "id": "k408QUTJzPqB"
      },
      "outputs": [],
      "source": [
        "# Task - Is Lionel Messi an argentine, male and footballplayer? Use the logical operators and boolean variables assigned in the live session."
      ]
    },
    {
      "cell_type": "code",
      "execution_count": null,
      "metadata": {
        "cellView": "form",
        "id": "40DXvddUH0ft"
      },
      "outputs": [],
      "source": [
        "#@title  Double click for solution\n",
        "# Live code - Is Lionel Messi an argentine, male, soccerplayer?\n",
        "is_argentine and is_male and is_footballplayer"
      ]
    },
    {
      "cell_type": "markdown",
      "metadata": {
        "id": "RbQ3zLwhx0A8"
      },
      "source": [
        "## More resources for learning Python:\n",
        "* [Programiz](https://www.programiz.com/python-programming)\n",
        "* [datacamp](https://learn.datacamp.com/courses/tech:python?utm_source=adwords_ppc&utm_campaignid=654038607&utm_adgroupid=54278411964&utm_device=c&utm_keyword=%2Blanguage%20%2Bpython%20%2Bprogramming&utm_matchtype=b&utm_network=g&utm_adpostion=&utm_creative=262582850841&utm_targetid=aud-299261629574:kwd-552072783517&utm_loc_interest_ms=&utm_loc_physical_ms=9056331&gclid=Cj0KCQjw5auGBhDEARIsAFyNm9FAWR3dZV833urTsgggqq0lAaMk6BRXg9CsS2bhaNo34H5aNPM6uk0aAiaaEALw_wcB)\n",
        "* [W3schools](https://www.w3schools.com/python/python_intro.asp)\n",
        "* [Coursera](https://www.coursera.org/specializations/python?utm_source=gg&utm_medium=sem&utm_campaign=06-PythonforEverybody-ROW&utm_content=06-PythonforEverybody-ROW&campaignid=6493101579&adgroupid=83560622768&device=c&keyword=python%20tutorial%20for%20beginners&matchtype=b&network=g&devicemodel=&adpostion=&creativeid=506843632505&hide_mobile_promo&gclid=Cj0KCQjw5auGBhDEARIsAFyNm9FM0o1tEpibGYE-1M2LQmlv2ctyf50caHOHA20YFVZe14CWMRV6xiUaAgMeEALw_wcB)"
      ]
    },
    {
      "cell_type": "code",
      "execution_count": null,
      "metadata": {
        "id": "a1u_sX3Gx0ns"
      },
      "outputs": [],
      "source": []
    },
    {
      "cell_type": "markdown",
      "metadata": {
        "id": "bsWZnvZfZPW-"
      },
      "source": [
        "Congrats! That's it for this tutorial.\n",
        "\n"
      ]
    },
    {
      "cell_type": "markdown",
      "metadata": {
        "id": "T9uDFOdZX9HP"
      },
      "source": [
        "---\n",
        "# About the author (feel free to contact)\n",
        "\n",
        "## Burak Gür\n",
        "- Post-doctoral researcher at the [Friedrich Miescher Institute for Biomedical Sciences](https://www.fmi.ch/) (FMI) in Basel. I investigate how time affects learning and memory using fruit flies at the [laboratory of Johannes Felsenberg](https://www.fmi.ch/research-groups/groupleader.html?group=141).\n",
        "- Organizer at the computational neuroscience and deep learning school [Neuromatch Academy](https://academy.neuromatch.io/about/mission).\n",
        "- Links:\n",
        "[twitter](https://twitter.com/burakgur_), [Google Scholar](https://scholar.google.com/citations?user=8B2egmgAAAAJ&hl=en), [linkedin](https://www.linkedin.com/in/burak-gur-605701a2/?originalSubdomain=de)\n",
        "- Feel free to contact me: burak.guer@fmi.ch"
      ]
    }
  ],
  "metadata": {
    "colab": {
      "authorship_tag": "ABX9TyOFYdov3OUgiPDFuNczznIS",
      "collapsed_sections": [
        "ePY07QMa8OGm"
      ],
      "include_colab_link": true,
      "provenance": [],
      "toc_visible": true
    },
    "kernelspec": {
      "display_name": "Python 3",
      "name": "python3"
    },
    "language_info": {
      "name": "python"
    }
  },
  "nbformat": 4,
  "nbformat_minor": 0
}
